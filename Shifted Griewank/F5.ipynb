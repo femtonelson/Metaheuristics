{
 "cells": [
  {
   "cell_type": "markdown",
   "metadata": {},
   "source": [
    "**Shifted Griewank Function**"
   ]
  },
  {
   "cell_type": "markdown",
   "metadata": {},
   "source": [
    "Environment : Python 3.8.2 & Jupyter Notebook<br>"
   ]
  },
  {
   "cell_type": "markdown",
   "metadata": {},
   "source": [
    "The objective is to solve unconstrained problem : F5 as described in the “CEC2008_TechnicalReport.pdf” for both dimensions D = 50 and D = 500. <br>\n",
    "F5: Shifted Griewank<br>\n",
    "\n",
    "The coordinates of the shifted global minimum of this function in dim = 1000 are provided in a numpy array in a data file \"data.py\". These are the target coordinates to be achieved.<br>\n",
    "F5: griewankdat -> shape = (1000,) <br>\n",
    "\n",
    "The fitness or value of this function at its minimum is also available in numpy array \"f_bias\" in \"data.py\". This is the the target fitness value to achieve.<br>\n",
    "f_bias[4] = F5_min = -180\n",
    "<img src=\"Functions.png\">"
   ]
  },
  {
   "cell_type": "markdown",
   "metadata": {},
   "source": [
    "Import Libraries"
   ]
  },
  {
   "cell_type": "code",
   "execution_count": 1,
   "metadata": {},
   "outputs": [],
   "source": [
    "import random\n",
    "import numpy as np\n",
    "import matplotlib.pyplot as plt\n",
    "import pandas as pd\n",
    "import time\n",
    "\n",
    "from psopy import minimize as minimize_pso"
   ]
  },
  {
   "cell_type": "markdown",
   "metadata": {},
   "source": [
    "**Import Data**"
   ]
  },
  {
   "cell_type": "code",
   "execution_count": 2,
   "metadata": {
    "scrolled": true
   },
   "outputs": [
    {
     "name": "stdout",
     "output_type": "stream",
     "text": [
      "(1000,)\n",
      "-180.0\n"
     ]
    }
   ],
   "source": [
    "# Import data in data.py file and print shape of input arrays\n",
    "from data import *\n",
    "print(griewankdat.shape)\n",
    "print(f_bias[4])"
   ]
  },
  {
   "cell_type": "markdown",
   "metadata": {},
   "source": [
    "- Algorithm : Particle Swarm Optimization - The shifted Griewank function is multimodal and as such requires a heuristic-based algorithm. PSO is chosen for it's low computational cost. \n",
    "- Library : psopy\n",
    "- Parameters of the algorithm : Number of particles, stable_iter(Number of iterations to wait before Swarm is declared stable) \n",
    "- Stopping criterion : stable_iter = 100\n",
    "- Number of function evaluations : see below\n",
    "- Computational time : see below\n",
    "- Convergence curve : see below\n",
    "- Final results (solution and fitness) : see below"
   ]
  },
  {
   "cell_type": "code",
   "execution_count": 3,
   "metadata": {},
   "outputs": [],
   "source": [
    "# Define objective function to minimize\n",
    "def Shifted_Griewank(x):\n",
    "    z = np.subtract(x[:dim], griewankdat[:dim])\n",
    "    return f_bias[4] + np.sum(np.divide(np.power(z, 2), 4000)) \\\n",
    "                     - np.prod(np.cos(z/np.sqrt(np.arange(1,dim+1)))) + 1\n",
    "\n",
    "\n",
    "def Minimize_PSO(func, targetmin=None, nb_particles=None, stable_iter=None, self_confid=None, swarm_confid=None, \n",
    "                 bounds_min = None, bounds_max = None):\n",
    "    \"\"\" Minimize func using Particle Swarm Optimization with a given particle self confidence and swarm condifence\n",
    "        Stopping condition : Maximum change in best fitness smaller than default tol=1e-6 for stable_iter iterations\"\"\"\n",
    "    \n",
    "    print(\"Number of dimensions : {}\".format(dim))\n",
    "    \n",
    "    since = time.time()\n",
    "    \n",
    "    # Generate nb_particles particles of dimension dim, with coordinates between min and max\n",
    "    x0 = np.random.uniform(bounds_min, bounds_max, (nb_particles, dim))\n",
    "    \n",
    "    # Run Particle Swarm Optimization\n",
    "    res = minimize_pso(func, x0, options={'stable_iter': stable_iter, 'l_rate':self_confid, 'g_rate':swarm_confid, \n",
    "                       'verbose' : False, 'savefile': \"output.csv\"})\n",
    "    \n",
    "    # Show results\n",
    "    print(\"Computational time : {:.2f} s\".format(time.time()-since))\n",
    "    print(\"Fitness at minimum (result): {:.4f} \".format(res.fun))\n",
    "    print(\"Fitness at minimum (real): {:.4f} \".format(targetmin))\n",
    "    print(\"Function evaluations : {}\".format(res.nit*nb_particles))\n",
    "\n",
    "    converg = pd.read_csv(\"output.csv\", sep=\",\")\n",
    "    plt.plot(converg.Iter+1, converg.Func, label=\"Convergence curve\")\n",
    "    plt.axhline(y=targetmin, color=\"r\", label=\"Actual Minimum = \"+str(targetmin))\n",
    "    plt.legend()\n",
    "    plt.xlabel(\"Iteration\")\n",
    "    plt.ylabel(\"Fitness\")\n",
    "    plt.show()\n",
    "    \n",
    "    print(\"x_minimum :\\n{}\".format(res.x))"
   ]
  },
  {
   "cell_type": "markdown",
   "metadata": {},
   "source": [
    "D = 50"
   ]
  },
  {
   "cell_type": "code",
   "execution_count": 4,
   "metadata": {},
   "outputs": [
    {
     "name": "stdout",
     "output_type": "stream",
     "text": [
      "Number of dimensions : 50\n",
      "Computational time : 1.51 s\n",
      "Fitness at minimum (result): -179.2438 \n",
      "Fitness at minimum (real): -180.0000 \n",
      "Function evaluations : 19980\n"
     ]
    },
    {
     "data": {
      "image/png": "[encoded data removed]",
      "text/plain": [
       "<Figure size 432x288 with 1 Axes>"
      ]
     },
     "metadata": {
      "needs_background": "light"
     },
     "output_type": "display_data"
    },
    {
     "name": "stdout",
     "output_type": "stream",
     "text": [
      "x_minimum :\n",
      "[ 540.32396617 -322.53011024  128.72251185  -17.03278398  470.69589352\n",
      "  314.61399407  -51.53202792 -577.9209445   384.79716452  -67.91961654\n",
      "  137.99473443  350.43710227  506.64971264  285.55264892 -389.72942129\n",
      " -112.35597604  521.65287047  502.25224975 -105.86640597  472.8768074\n",
      " -530.55647098 -175.85676152  376.33287158 -587.55580418 -434.26837305\n",
      " -356.73596568 -361.77056769  124.9741389  -272.74049159 -362.16372898\n",
      " -582.46061679  294.7929818   -66.21541193  519.47012297  -41.15856257\n",
      "  -99.77787193  418.29444598   30.36650051 -357.08497475  204.041979\n",
      "  405.68071947 -577.58483714  220.3369813  -143.50603919  397.58384934\n",
      "    2.87405201  249.22079569  -85.19896735 -236.2867276  -372.09413378]\n"
     ]
    }
   ],
   "source": [
    "dim = 50\n",
    "Minimize_PSO(Shifted_Griewank, targetmin=f_bias[4], nb_particles=20, stable_iter=100, self_confid=0.5, swarm_confid=10\n",
    "             ,bounds_min=-600, bounds_max=600)"
   ]
  },
  {
   "cell_type": "markdown",
   "metadata": {},
   "source": [
    "D = 500"
   ]
  },
  {
   "cell_type": "code",
   "execution_count": 5,
   "metadata": {},
   "outputs": [
    {
     "name": "stdout",
     "output_type": "stream",
     "text": [
      "Number of dimensions : 500\n",
      "Computational time : 48.70 s\n",
      "Fitness at minimum (result): -162.5354 \n",
      "Fitness at minimum (real): -180.0000 \n",
      "Function evaluations : 299700\n"
     ]
    },
    {
     "data": {
      "image/png": "[encoded data removed]",
      "text/plain": [
       "<Figure size 432x288 with 1 Axes>"
      ]
     },
     "metadata": {
      "needs_background": "light"
     },
     "output_type": "display_data"
    },
    {
     "name": "stdout",
     "output_type": "stream",
     "text": [
      "x_minimum :\n",
      "[ 557.47191699 -330.65115428  126.57088299  -12.81456855  479.07868284\n",
      "  327.55457734  -31.95569887 -572.72347854  392.968892    -81.69068605\n",
      "  119.68437558  335.07230843  498.68813822  298.9168327  -387.77991251\n",
      " -111.16285861  519.42446543  503.10544834 -110.16364617  488.65674083\n",
      " -536.96531514 -188.00758802  370.2313883  -585.36720087 -446.14268243\n",
      " -338.18664493 -364.99416017  102.79338509 -295.73539431 -354.32880326\n",
      " -582.37972958  289.29910131  -44.58723983  518.1136035   -41.55887905\n",
      " -116.69497169  432.89925192   37.35486255 -364.25640449  196.03602277\n",
      "  395.85724891 -566.97720098  207.85486148 -126.52290908  402.54853741\n",
      "    1.46150966  259.0646934   -83.13953221 -228.00532548 -372.19599622\n",
      " -360.5098223   213.67714076 -221.51202867   47.37589816 -423.70359361\n",
      "  232.22178735 -141.79490849  444.20081175  429.16529172   97.9303054\n",
      "   20.38656928  471.58634455  377.59090953  177.95086523  398.69192817\n",
      "  173.11123911 -211.26117008 -248.35545062 -202.35226415   54.69866176\n",
      "  254.70161515 -226.74481785  402.60070906   94.6722964  -152.37102628\n",
      "  247.43079546   50.12217321  -78.49384437  233.10803953  139.9227345\n",
      "  364.22859294  531.3315933    21.86389535  457.57204083 -404.37907033\n",
      "  567.94807995 -281.51163939 -312.85612828  442.52230827  276.84777504\n",
      " -441.05001197 -581.06503152  458.86102925 -356.00399389 -237.50430545\n",
      "  185.36582487 -250.2339993   -30.26883038 -516.52277434  591.63480139\n",
      "   90.25751883  -93.13953085   12.79203604 -210.20102659  -80.32067573\n",
      " -332.22930267   80.26660842  290.79378852   38.81281799  194.72531895\n",
      " -350.06686455 -143.30853179  347.60286378  205.60652941  -46.00804799\n",
      "   98.90134834  371.85660127 -529.12579408  125.18490291 -535.68809875\n",
      "  -98.54297887 -247.77886551  430.93756803 -594.57666925  309.1728408\n",
      "  583.38392757  585.19118813  363.84989216  -75.39242469   11.22925305\n",
      " -344.82157752  189.27581319 -216.56825931  568.80626636  268.86521844\n",
      "  -83.23048908  289.06670584 -263.13597086  -77.12729001  516.48281358\n",
      "  217.5148296  -348.18360355  404.98130886  142.4005129  -435.95398789\n",
      " -335.95349755  126.81189417  133.82427981 -147.52618081   77.63940125\n",
      "  -69.23154088 -552.31543313 -566.28873052 -233.19854633 -585.22676166\n",
      " -135.92645638  225.14088901 -476.69384592 -559.84776311  144.80486964\n",
      "  130.6636302  -566.37453918 -568.0822034  -359.1642342   134.44438594\n",
      " -548.39086067 -166.69519168  167.18700202  234.3518441   234.83017952\n",
      " -501.63673272  -53.51223666  -80.23972131 -188.65944424 -413.33474152\n",
      "  183.53547505  240.81660283  267.04889344  -34.46814798   65.04358098\n",
      " -454.72293964  -55.49719157  252.89633661  472.36877264 -268.14436813\n",
      " -292.18644201  449.34019522 -306.41257691  365.15062278  472.46118889\n",
      " -322.23751086 -299.56123179 -548.66617153 -512.20181793  153.26832624\n",
      " -357.93691831  417.85102167 -386.15463375 -414.38493021  585.74199397\n",
      "  -72.9361677  -196.4192195  -236.58222336 -160.14028369 -123.38608216\n",
      "  100.6831773  -443.46391145 -547.93846605  -70.39441112  464.70848215\n",
      "  523.47770894 -273.41436251 -418.45030863  437.94055966 -314.98814472\n",
      "  176.38215319  561.35207246  207.45308638  451.2364194  -620.01230188\n",
      " -438.23862807  382.87512648  -94.02729684  478.1774282   296.79594929\n",
      "  217.37086951 -170.58088903 -439.93069176 -424.0412074  -365.11642477\n",
      "  -96.87449237  422.10431065  -18.65409688  384.44836734  -43.00970777\n",
      "  -56.38899649  -56.49775553 -108.34232073  479.00414532 -577.31894289\n",
      " -240.71220075 -529.4525145   222.79056839  180.49974468  574.17192751\n",
      "   61.09343274 -114.68499343 -388.67934988  148.12563733  294.14858125\n",
      " -133.87000987 -585.11136019  -77.5141848   283.46544703  355.8863904\n",
      "  503.73906573  436.71117282 -152.65512397  138.22802287  260.44385575\n",
      " -376.52846762  482.73443302   89.96760161  160.76471137 -328.26131396\n",
      "   62.86496962  500.23761805 -199.39628166  187.67181844 -146.93142451\n",
      "  135.53917015  229.09774275 -150.84220132 -115.55854623  185.18864028\n",
      "  408.96010294 -145.41290308  -95.74564812  104.29550416   77.13372395\n",
      "  269.77983233   12.50618788  325.94413869  -18.92792623 -370.48338494\n",
      "  232.70973833  586.00074676  358.05739426  251.99450864   -5.44115917\n",
      " -458.47652009  187.3436257  -151.44843511 -424.18198347   85.01681491\n",
      "  389.91773211  212.49333417  589.46973105  554.85536492 -529.90661468\n",
      " -164.56634356   56.50462076 -264.11221112  115.35107711 -525.84020572\n",
      "   72.93838533  234.83126887  562.65333839  301.16604438  306.73741027\n",
      "  -95.62773535  147.62696545  365.15664261 -511.67295864  531.36540464\n",
      "  494.46504518  115.70031413 -300.72605603  437.24842427   12.80087909\n",
      "  287.75395134  -90.21134603  549.09751855 -523.8646588    61.39734482\n",
      " -263.24236616  431.90476258 -196.20594665  209.24491059 -519.47951571\n",
      " -159.14030531  -26.53689047  -67.26534836   91.22526082  149.14413751\n",
      " -471.16750952  461.89789862  306.43146441  356.1051555   369.78582999\n",
      "  209.87603267 -379.95043079 -268.41882653  155.3477978    51.3704665\n",
      " -541.24160044 -472.05747683 -287.83339777 -107.41938636  -20.32831991\n",
      "  471.55572437  108.94988671 -203.53407998  -13.27024195  124.8630204\n",
      " -392.44313249  386.30841527  541.81697797  102.83849123 -538.6698057\n",
      "  368.07691015  122.2510003   256.92499463 -467.26583659  -68.63945696\n",
      " -149.16978041 -398.10845456  406.07774602  389.31172363  -54.89665002\n",
      "  575.51936593 -421.93724997  447.38973129  350.25351595  -72.84930734\n",
      "  145.1729458   556.88027029  172.90467595 -298.62743744 -179.35188386\n",
      " -393.4503965   -13.38115483  -97.7291789   -51.11450611  142.53203987\n",
      " -517.73235678 -218.85891597  117.09587676 -391.50011054  130.75590262\n",
      " -319.52910378  111.48624334   -6.7716027   -43.61366676   64.07448712\n",
      "  550.46150406 -197.70167646 -113.00206795 -224.50607541  -73.72381715\n",
      " -242.10729771 -118.14107506   15.57067759  251.24358264 -224.44242795\n",
      " -463.03979777  -59.26568941  -23.0505016  -589.69246514  185.82551699\n",
      "  251.25715527 -256.97397203 -291.67037241  258.31678777  356.35763822\n",
      "  600.18977286  -30.82202692  477.12488094  -49.29529173  365.6962323\n",
      "  383.69901241 -423.37984808 -125.76778238   41.7416773   275.64953476\n",
      "   75.69517586  -52.41504956  -39.60935517 -495.37481872  -71.98166828\n",
      " -151.94472037 -248.41171072  405.51800514  316.57667225  544.86840076\n",
      "   67.01116851 -585.0663229   123.05171784  362.98886199  575.62620662\n",
      " -329.5741483   216.15576454   23.87550764  535.43802217  264.85255395\n",
      " -300.73113502  -75.69128572 -389.1925643   560.91062296 -151.57285005\n",
      " -531.92031203  313.1133146   439.03483742 -249.36497634 -295.49470061\n",
      "  499.39882    -440.62201993  548.06124312  250.28335027  416.75643245\n",
      " -340.82820132  -49.64589632 -504.89181264  426.62095664   74.27858501\n",
      " -230.23222397 -153.42973694  448.7791693  -163.69585062 -519.47489882\n",
      " -365.69496509 -530.28856888   75.63596751 -430.46101653   20.84097367\n",
      " -439.80397616  303.92412245 -156.06732726  374.74209627 -546.46872865\n",
      "  104.54873638  524.47810815 -229.13676525  466.8199701  -484.49773138\n",
      " -513.0346474  -338.54694501  522.16996696 -524.78654696 -279.72751066\n",
      "  588.35790481 -345.20732045   -1.39256039 -252.89642469  213.49228894\n",
      "  543.16609595  302.4077445   217.2930908  -451.78901875 -483.82833934]\n"
     ]
    }
   ],
   "source": [
    "dim = 500\n",
    "Minimize_PSO(Shifted_Griewank, targetmin=f_bias[4], nb_particles=300, stable_iter=100, self_confid=0.5, swarm_confid=20\n",
    "            ,bounds_min=-600, bounds_max=600)"
   ]
  },
  {
   "cell_type": "markdown",
   "metadata": {},
   "source": [
    "PSO gives accceptable results on Griewank multimodal function minimization problem with a reasonable computational cost for both D=50 and D=500."
   ]
  }
 ],
 "metadata": {
  "celltoolbar": "Raw Cell Format",
  "kernelspec": {
   "display_name": "Python 3",
   "language": "python",
   "name": "python3"
  },
  "language_info": {
   "codemirror_mode": {
    "name": "ipython",
    "version": 3
   },
   "file_extension": ".py",
   "mimetype": "text/x-python",
   "name": "python",
   "nbconvert_exporter": "python",
   "pygments_lexer": "ipython3",
   "version": "3.8.2"
  }
 },
 "nbformat": 4,
 "nbformat_minor": 4
}
