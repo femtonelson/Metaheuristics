{
 "cells": [
  {
   "cell_type": "markdown",
   "metadata": {},
   "source": [
    "**Shifted Rastrigin Function**"
   ]
  },
  {
   "cell_type": "markdown",
   "metadata": {},
   "source": [
    "Environment : Python 3.8.2 & Jupyter Notebook<br>"
   ]
  },
  {
   "cell_type": "markdown",
   "metadata": {},
   "source": [
    "The objective is to solve unconstrained problem : F4 as described in the “CEC2008_TechnicalReport.pdf” for both dimensions D = 50 and D = 500. <br>\n",
    "F4: Shifted Rastrigin <br>\n",
    "\n",
    "The coordinates of the shifted global minimum of this function in dim = 1000 are provided in a numpy array in a data file \"data.py\". These are the target coordinates to be achieved.<br>\n",
    "F4: rastrigindat -> shape = (1000,) <br>\n",
    "\n",
    "The fitness or value of this function at its minimum is also available in numpy array \"f_bias\" in \"data.py\". This is the the target fitness value to achieve.<br>\n",
    "f_bias[3] = F4_min = -330\n",
    "<img src=\"Functions.png\">"
   ]
  },
  {
   "cell_type": "markdown",
   "metadata": {},
   "source": [
    "Import Libraries"
   ]
  },
  {
   "cell_type": "code",
   "execution_count": 8,
   "metadata": {},
   "outputs": [],
   "source": [
    "import random\n",
    "import numpy as np\n",
    "import matplotlib.pyplot as plt\n",
    "import pandas as pd\n",
    "import time\n",
    "from pygmo import *"
   ]
  },
  {
   "cell_type": "markdown",
   "metadata": {},
   "source": [
    "**Import Data**"
   ]
  },
  {
   "cell_type": "code",
   "execution_count": 2,
   "metadata": {
    "scrolled": true
   },
   "outputs": [
    {
     "name": "stdout",
     "output_type": "stream",
     "text": [
      "(1000,)\n",
      "-330.0\n"
     ]
    }
   ],
   "source": [
    "# Import data in data.py file and print shape of input arrays\n",
    "from data import *\n",
    "print(rastrigindat.shape)\n",
    "print(f_bias[3])"
   ]
  },
  {
   "cell_type": "markdown",
   "metadata": {},
   "source": [
    "- Algorithm : Genetic Algorithm<br> Function F4 is highly multimodal with a huge number of local minima. GA can optimize better by mimicing natural selection in low dimensions where gradient-based or deterministic-transition-based heuristics would fail. However as dimensionality grows, GA becomes very computationally intensive.\n",
    "- Library : PyGMO\n",
    "- Parameters of the algorithm : Population size, number of generations\n",
    "- Stopping criterion : Number of generations completed\n",
    "- Number of function evaluations : see below\n",
    "- Computational time : see below\n",
    "- Convergence curve : see below\n",
    "- Final results (solution and fitness) : see below"
   ]
  },
  {
   "cell_type": "code",
   "execution_count": 5,
   "metadata": {},
   "outputs": [],
   "source": [
    "# Define objective function to minimize\n",
    "def Shifted_Rastrigin(x):\n",
    "    z = np.subtract(x[:dim], rastrigindat[:dim])\n",
    "    return f_bias[3] + np.sum(np.power(z, 2) - 10*np.cos(2*np.pi*z) + 10)\n",
    "\n",
    "# Define user-defined problem (udp) classes that implement methods describing the optimization problems.\n",
    "# Classes to be used to construct an instance of pygmo.problem class\n",
    "\n",
    "# fitness() method returns the fitness of the input\n",
    "# get_bounds() returns the box bounds of the problem or search space\n",
    "\n",
    "class shifted_rastrigin:\n",
    "    def fitness(self, x):\n",
    "        return [Shifted_Rastrigin(x)]\n",
    "    def get_bounds(self):\n",
    "        return ([-5]*dim, [5]*dim)\n",
    "\n",
    "def Minimize_GA(input_prob=None, popsize=None, generations=None, targetmin=None):\n",
    "    \"\"\"Minimize the input problem with the genetic algorithm\"\"\"\n",
    "    \n",
    "    print(\"Number of dimensions : {}\".format(dim))\n",
    "        \n",
    "    since = time.time()\n",
    "    \n",
    "    # Instanciate simple genetic algorithm class of pygmo library\n",
    "    simple_gen_algo = sga(gen = generations, cr = .90, eta_c = 1., m = 0.02,\\\n",
    "                          param_m = 1., param_s = 2, crossover = \"exponential\",\\\n",
    "                          mutation = \"polynomial\", selection = \"tournament\", seed = 100)\n",
    "    \n",
    "    # Intanciate optimization algorithm class\n",
    "    algo = algorithm(simple_gen_algo)\n",
    "    \n",
    "    # Set algorithm verbosity - 1 for logging outputs at each generation\n",
    "    algo.set_verbosity(1)\n",
    "    \n",
    "    # Construct an instance of pygmo.problem class by overriding specific methods with those implemented in\n",
    "    # input user-defined problem class\n",
    "    prob = problem(input_prob())\n",
    "    \n",
    "    # Generate a population of potential candidate solutions of size=popsize to solve prob\n",
    "    pop = population(prob, size=popsize, seed=100)\n",
    "    \n",
    "    # Core of the optimization - selection + crossover + mutation + insertion over specified number of generations\n",
    "    pop = algo.evolve(pop)\n",
    "    \n",
    "    till = time.time()\n",
    "    \n",
    "    # Extract a reference to the internal user-defined algorithm\n",
    "    uda = algo.extract(sga)\n",
    "    \n",
    "    # Log extraction\n",
    "    log = uda.get_log()\n",
    "\n",
    "    Gen, Fevals, Best_fitness, Improvement = [], [], [], []\n",
    "    \n",
    "    # Fetch cumulative number of function evaluatiions and best fitness at each generation\n",
    "    for x in log:\n",
    "        Gen.append(x[0])\n",
    "        Fevals.append(x[1])\n",
    "        Best_fitness.append(x[2])\n",
    "        #Improvement.append(x[3])\n",
    "    \n",
    "    # Show results\n",
    "    plt.plot(Gen, Best_fitness, label=\"Convergence curve\")\n",
    "    plt.axhline(y=targetmin, color=\"r\", label=\"Actual Minimum = \"+str(targetmin))\n",
    "    plt.legend()\n",
    "    plt.xlabel(\"Generation\")\n",
    "    plt.ylabel(\"Fitness\")\n",
    "    plt.show()\n",
    "\n",
    "    print(\"Computational time : {:.2f} s\".format(till-since))\n",
    "    print(\"Fitness at minimum (result): {:.4f} \".format(pop.champion_f[0]))\n",
    "    print(\"Fitness at minimum (real): {:.4f} \".format(targetmin))\n",
    "    print(\"Function evaluations : {}\".format(Fevals[-1]))\n",
    "    print(\"x_minimum :\\n{}\".format(pop.champion_x))"
   ]
  },
  {
   "cell_type": "markdown",
   "metadata": {},
   "source": [
    "D = 50"
   ]
  },
  {
   "cell_type": "code",
   "execution_count": 6,
   "metadata": {},
   "outputs": [
    {
     "name": "stdout",
     "output_type": "stream",
     "text": [
      "Number of dimensions : 50\n"
     ]
    },
    {
     "data": {
      "image/png": "[encoded data removed]",
      "text/plain": [
       "<Figure size 432x288 with 1 Axes>"
      ]
     },
     "metadata": {
      "needs_background": "light"
     },
     "output_type": "display_data"
    },
    {
     "name": "stdout",
     "output_type": "stream",
     "text": [
      "Computational time : 6.18 s\n",
      "Fitness at minimum (result): -329.6562 \n",
      "Fitness at minimum (real): -330.0000 \n",
      "Function evaluations : 250000\n",
      "x_minimum :\n",
      "[ 3.8445029   4.32350172 -2.82094714  0.65101729  4.34134719  2.4518979\n",
      " -3.45837169  2.33679796  3.98684961  4.28920696  2.37466364  3.22368391\n",
      " -0.03015515  4.62886165  4.61260103  1.00211922  1.60986279 -4.72879932\n",
      " -2.69597587  1.04105149 -3.20697928  3.80413119 -2.68332708 -3.2326649\n",
      "  4.41554516  0.72769314 -4.42269654  1.48966534  0.74542177  2.17860479\n",
      " -3.28385668  2.78442732  3.59878861 -4.71983633  0.52453038 -3.60061987\n",
      " -3.20207392  0.46642729 -2.02516696 -0.39103262 -3.7774805   4.97467407\n",
      "  4.32950387  3.35475572 -4.86575813  4.83989896  0.23326813 -4.29119339\n",
      "  3.68337675  4.79274785]\n"
     ]
    }
   ],
   "source": [
    "dim = 50\n",
    "Minimize_GA(input_prob=shifted_rastrigin, popsize=500, generations=500, targetmin=f_bias[3])"
   ]
  },
  {
   "cell_type": "markdown",
   "metadata": {},
   "source": [
    "D = 500"
   ]
  },
  {
   "cell_type": "code",
   "execution_count": 7,
   "metadata": {},
   "outputs": [
    {
     "name": "stdout",
     "output_type": "stream",
     "text": [
      "Number of dimensions : 500\n"
     ]
    },
    {
     "data": {
      "image/png": "[encoded data removed]",
      "text/plain": [
       "<Figure size 432x288 with 1 Axes>"
      ]
     },
     "metadata": {
      "needs_background": "light"
     },
     "output_type": "display_data"
    },
    {
     "name": "stdout",
     "output_type": "stream",
     "text": [
      "Computational time : 154.30 s\n",
      "Fitness at minimum (result): 2036.0757 \n",
      "Fitness at minimum (real): -330.0000 \n",
      "Function evaluations : 2500000\n",
      "x_minimum :\n",
      "[ 0.7405601   3.29026907 -0.85676669  0.68875518  2.39601078  3.39258157\n",
      " -4.56507596  4.33760816  4.87333086  3.1224938   3.388322    1.22996161\n",
      " -0.83700174  3.62037844  2.59715258  0.81699197 -0.34000725 -3.54971857\n",
      " -4.7211697   1.03472075 -0.21118126  3.89653642 -1.71465092 -4.24253236\n",
      "  2.44944816  1.07731763 -4.3231058  -1.39151783 -1.38951199  3.27435998\n",
      " -2.25501851  2.69082982  3.51808451 -4.73252804  0.66358207 -3.72005065\n",
      " -2.13570599  2.43424518 -0.92471484 -2.21692152 -4.97619905  4.0105171\n",
      "  3.25307418  1.43619355 -3.44691714  2.92378506  3.09215481 -4.19835113\n",
      " -0.31784032  3.80129257 -3.06957529  3.43778178 -2.27051468  1.27341725\n",
      "  0.58164863 -3.3365997  -3.40505953  2.6978532  -1.41913296 -1.8401715\n",
      "  2.18417156 -0.11249535  3.40136105  0.83228633  4.48957032  4.14494401\n",
      "  2.33161427 -0.21860547  0.34121582  0.0372994   4.18725271  3.66415735\n",
      "  1.38075802  0.10630441 -4.54311017 -3.33233773  4.21754915  4.59910025\n",
      "  3.1040298  -3.38300839  2.85116384  4.01203654  3.531019    2.01638274\n",
      "  4.82102886  0.78932498 -4.29517753  1.56837439  4.19264739  4.22710185\n",
      "  3.44385754  2.74580689  0.55618948 -2.36189979 -0.58747358 -1.35095127\n",
      " -4.03413461  3.48381147  2.15325649  3.2892956  -2.75059745 -4.19968268\n",
      " -2.96765162  0.13070296 -4.88397681 -3.47552733 -1.58287139 -1.93003796\n",
      "  2.14965793  0.59897737  2.55624834  3.72608219  4.39249528  1.1031007\n",
      " -4.91115459 -1.34152489  2.40787908  0.32024882 -0.39217799 -4.86234155\n",
      " -1.89014583  1.38463482 -2.81744592  2.44411428 -2.78004806 -0.9763195\n",
      "  0.32170194  2.67972667  1.42766543 -4.70385239 -4.97992271 -2.90960571\n",
      "  1.58687658 -0.87829888  4.76456849  1.31343661  4.94130745  3.7190551\n",
      " -3.64595148 -4.0537265  -2.12438129  3.30026472  1.63679924  0.86362145\n",
      "  2.15953702 -1.51082355 -1.04454988 -1.96415484 -0.62174939  4.85364036\n",
      "  2.11627005  3.74653721 -2.0824425  -1.38566042  1.8060309  -3.62418936\n",
      "  3.88532855  3.97857865 -4.95126167 -3.2214628   2.41250458 -2.78250819\n",
      " -1.34721178 -3.33895172  2.27757714 -4.88940007 -2.13421118 -2.6261485\n",
      "  1.26543259 -0.85465349 -1.91390003 -4.36890378  4.31608241  1.09904247\n",
      "  4.39001828 -4.76923391  3.37120135  4.56773329  2.57893487  3.73018836\n",
      "  4.29792052  2.89066325 -2.29486302  1.01306918 -1.8920702  -0.30249347\n",
      "  4.01071824  0.76008467  4.97856757  4.95646923  2.60607999 -1.64234678\n",
      " -2.13400451 -0.7250463  -1.49190738  1.6323394   1.77822007  3.64672135\n",
      "  3.74194448  4.31098354 -1.43085206  1.88562709 -2.6127877   0.29383645\n",
      "  0.9629377  -3.57495502 -2.36748455 -4.47026903 -4.265698    3.41991919\n",
      "  2.53221681  2.91258329  1.72744381 -1.08552051 -0.61251059 -4.19788068\n",
      "  1.99561657  4.31940107  4.71007119 -4.23242366  3.89882589  0.28749948\n",
      " -3.66245043  3.30455283 -2.88006683 -2.20248837  1.37986371 -3.70322467\n",
      " -0.16438358  3.24931148  2.74370614  0.5765818   1.72459678  2.65570806\n",
      " -3.79222576 -2.78084214  2.45109867  2.86986365  2.99286843 -3.87921773\n",
      "  1.9511801   1.10292035  4.79853663  0.15978649  4.63504783 -2.20328302\n",
      " -4.96152692  2.09795918 -0.23169284 -2.41287268  0.58774851 -2.21493982\n",
      "  1.79637891  0.98513819 -3.49340918 -1.94380274 -0.70834581  4.1119344\n",
      "  3.37166906  0.99630388  3.60206102  1.68098099 -2.02517983 -1.3464121\n",
      " -4.43991581 -1.72442443  0.17094212  1.41534346  0.06256235  4.53243662\n",
      "  1.86868922 -3.65593701 -2.22038795 -4.16180973  0.12723888  1.59274025\n",
      "  1.7509428   0.20489496  3.79092767  4.58677054  2.01491978 -0.73952995\n",
      "  0.40896316 -2.92869474  1.27152859  2.57460287  1.11682789  0.99751592\n",
      " -4.79503719 -0.63619501  2.66387316  4.11918519  1.25922891 -4.77731501\n",
      "  3.72577156  3.05886112  1.62236295 -1.25036721 -4.1775621   1.57184839\n",
      "  4.90755699  3.00228502 -3.22005749 -2.13326229 -0.7289448  -2.61755814\n",
      "  4.36375071 -0.01797419 -2.06318542  3.5701851   3.00892399 -4.72026637\n",
      " -2.18454386  4.71521917 -4.01178677 -2.49371265 -0.97687304  4.05503179\n",
      "  1.60451232  2.06141396  4.77788546 -1.93882527 -1.60303588 -3.58361096\n",
      " -0.87083364  1.49568013 -3.08822759 -1.57326796 -0.55364751  2.41265622\n",
      " -0.87356635  2.51792482  3.38853363 -2.79837403 -2.64545614  3.67190233\n",
      " -2.20177236  0.15953698 -2.88376018  1.13901725  0.85161159 -1.78087499\n",
      " -3.30261559 -0.39203926 -0.22736222 -4.663836   -0.17815699 -4.18528064\n",
      " -1.89677184  2.7737198   3.37910327  3.92013605  2.69433854 -1.75495381\n",
      "  1.80135694 -1.54535519 -4.83314055 -2.78784598 -1.03579323  1.49631485\n",
      " -0.86384647  1.44794275  0.40594101 -0.49201634  3.56231608 -2.62766205\n",
      " -4.58554124  4.0004378   3.29487836  1.42195113 -2.80906669 -2.90859129\n",
      "  3.37986143  2.78468111 -1.48842285 -1.71066699  4.7600907  -0.78412223\n",
      " -1.41469541 -4.25762371  1.27036671  4.11251381 -1.09607867  4.0985382\n",
      "  0.65301704  3.29892016  2.3881557  -1.85632728  1.76742612 -4.54237831\n",
      " -1.14542479 -4.46643748  3.78172596  3.90238809  0.51660336  1.04399032\n",
      " -1.60156572  0.62054701 -2.85109303  0.8292396  -4.91106872  1.29587926\n",
      "  2.97513136 -0.4555575   4.60921917 -0.12715942  1.17990492  3.20487577\n",
      " -0.88293113 -4.9334228  -2.66214901  0.09951882 -1.61336216 -4.87026212\n",
      "  3.05915698 -4.26072227 -4.94123545  3.33176887 -4.00854397  2.66318263\n",
      "  4.91567448 -3.50504533 -4.96026388  4.89972204 -1.01909668  4.33022345\n",
      " -1.91873379 -4.86069326 -1.57607786  3.85374806  4.74764209  4.24855486\n",
      "  3.01907319  2.16887416 -2.72206943  4.86216264 -3.81889197  2.8789055\n",
      "  0.81821945  0.85191902  4.01677445  3.69090302 -3.68297867 -1.61510564\n",
      " -2.40309144  0.49697691 -2.1430167  -0.93896284  3.67222723 -3.62122213\n",
      "  0.59308188 -1.20890305  0.41695911  1.20661779  2.11827481  2.73609011\n",
      " -0.50935267 -3.85722299  1.71657818 -3.61613326 -2.01192746 -0.4673722\n",
      " -0.22706433 -3.42349532  3.16236991 -2.16127533  3.87029023  4.92742225\n",
      " -0.67133132  1.53492122  3.74221014 -4.64426738  0.19627724 -1.31542601\n",
      "  4.06794571  4.43905353 -0.64357235 -2.57744922 -3.8277459   3.13887016\n",
      " -2.3212601   1.42022285 -2.35267099 -1.88655205 -2.06712944  0.60525118\n",
      "  1.25980039 -4.25157644  0.23389729 -0.68849085 -4.36580229  1.68154456\n",
      "  4.98924008  1.39543009 -4.4742043  -3.97864464  0.77988558  3.13350664\n",
      "  0.61976047 -1.41665478]\n"
     ]
    }
   ],
   "source": [
    "dim = 500\n",
    "Minimize_GA(input_prob=shifted_rastrigin, popsize=2500, generations=1000, targetmin=f_bias[3])"
   ]
  },
  {
   "cell_type": "markdown",
   "metadata": {},
   "source": [
    "The genetic algorithm provides a decent result for D=50 in 6 seconds with not more than 5000D function evaluations.\n",
    "However for D=500, the algorithm fails to reach the optimum within 5000D function evaluations. Further evolution parameter tuning may improve performance for high dimensions."
   ]
  }
 ],
 "metadata": {
  "celltoolbar": "Raw Cell Format",
  "kernelspec": {
   "display_name": "Python 3",
   "language": "python",
   "name": "python3"
  },
  "language_info": {
   "codemirror_mode": {
    "name": "ipython",
    "version": 3
   },
   "file_extension": ".py",
   "mimetype": "text/x-python",
   "name": "python",
   "nbconvert_exporter": "python",
   "pygments_lexer": "ipython3",
   "version": "3.8.2"
  }
 },
 "nbformat": 4,
 "nbformat_minor": 4
}
