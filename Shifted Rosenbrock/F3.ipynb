{
 "cells": [
  {
   "cell_type": "markdown",
   "metadata": {},
   "source": [
    "**Shifted Rosenbrock Function**"
   ]
  },
  {
   "cell_type": "markdown",
   "metadata": {},
   "source": [
    "Environment : Python 3.8.2 & Jupyter Notebook<br>"
   ]
  },
  {
   "cell_type": "markdown",
   "metadata": {},
   "source": [
    "The objective is to solve unconstrained problem : F3 as described in the “CEC2008_TechnicalReport.pdf” for both dimensions D = 50 and D = 500. <br>\n",
    "F3: Shifted Rosenbrock <br>\n",
    "\n",
    "The coordinates of the shifted global minimum of this function in dim = 1000 are provided in a numpy array in a data file \"data.py\". These are the target coordinates to be achieved.<br>\n",
    "F3: rosenbrockdat -> shape = (1000,) <br>\n",
    "\n",
    "The fitness or value of this function at its minimum is also available in numpy array \"f_bias\" in \"data.py\". This is the the target fitness value to achieve.<br>\n",
    "f_bias[2] = F3_min = 390\n",
    "<img src=\"Functions.png\">"
   ]
  },
  {
   "cell_type": "markdown",
   "metadata": {},
   "source": [
    "Import Libraries"
   ]
  },
  {
   "cell_type": "code",
   "execution_count": 6,
   "metadata": {},
   "outputs": [],
   "source": [
    "import random\n",
    "import numpy as np\n",
    "import matplotlib.pyplot as plt\n",
    "import pandas as pd\n",
    "import time\n",
    "\n",
    "from scipy.optimize import minimize\n",
    "from psopy import minimize as minimize_pso"
   ]
  },
  {
   "cell_type": "markdown",
   "metadata": {},
   "source": [
    "**Import Data**"
   ]
  },
  {
   "cell_type": "code",
   "execution_count": 18,
   "metadata": {
    "scrolled": true
   },
   "outputs": [
    {
     "name": "stdout",
     "output_type": "stream",
     "text": [
      "(1000,)\n",
      "390.0\n"
     ]
    }
   ],
   "source": [
    "# Import data in data.py file and print shape of input arrays\n",
    "from data import *\n",
    "print(rosenbrockdat.shape)\n",
    "print(f_bias[2])"
   ]
  },
  {
   "cell_type": "markdown",
   "metadata": {},
   "source": [
    "- Algorithm : Particle Swarm Optimization because it is a fast algorithm and is suitable for this continuous problem. Also the non-linear conjugate gradient works well. Function F3 is multimodal, quadratic, continuous and derivable (smooth) and despite the very narrow valley from local optimum to global optimum, the CG algorithm converges to the global optimum in a reasonable time.\n",
    "- Library : psopy(PSO) & Scipy(CG)\n",
    "- Parameters of the algorithm : Number of particles, stable_iter(Number of iterations to wait before Swarm is declared stable) \n",
    "- Stopping criterion : stable_iter = 100\n",
    "- Number of function evaluations : see below\n",
    "- Computational time : see below\n",
    "- Convergence curve : see below\n",
    "- Final results (solution and fitness) : see below"
   ]
  },
  {
   "cell_type": "code",
   "execution_count": 3,
   "metadata": {},
   "outputs": [],
   "source": [
    "# Define objective function to minimize\n",
    "def Shifted_Rosenbrock(x):\n",
    "    z = np.subtract(x[:dim], rosenbrockdat[:dim]) + 1\n",
    "    return f_bias[2] + np.sum(\n",
    "                              100 * np.power(np.subtract(np.power(z[:dim-1], 2), z[1:dim]), 2)\n",
    "                              + np.power((z[:dim-1]-1), 2)\n",
    "                             )\n",
    "\n",
    "def Minimize_CG(func, targetmin=None, tol=None, bounds_min = None, bounds_max = None):\n",
    "    \"\"\"Minimize func in dim dimensions using Conjugate Gradient algorithm\n",
    "       Expected minimum is targetmin\"\"\"\n",
    "    \n",
    "    print(\"Number of dimensions : {}\".format(dim))\n",
    "    \n",
    "    since = time.time()\n",
    "    \n",
    "    # Initial guess\n",
    "    x0 = np.random.uniform(bounds_min, bounds_max, dim)\n",
    "    \n",
    "    # Store convergence data\n",
    "    convergdata = []\n",
    "    def convergcurve(x):\n",
    "        convergdata.append(func(x))\n",
    "    \n",
    "    # Run minimization algorithm\n",
    "    res = minimize(func, x0, method='CG',\n",
    "                   options={'gtol': tol, 'disp': True}, callback=convergcurve)\n",
    "    \n",
    "    # Show results\n",
    "    print(\"Computational time : {:.2f} s\".format(time.time()-since))\n",
    "    print(\"Fitness at minimum (result): {:.4f} \".format(res.fun))\n",
    "    print(\"Fitness at minimum (real): {:.4f} \".format(targetmin))\n",
    "\n",
    "    plt.plot(range(1,len(convergdata)+1),convergdata, label=\"Convergence curve\")\n",
    "    plt.axhline(y=targetmin, color=\"r\", label=\"Actual Minimum = \"+str(targetmin))\n",
    "    plt.legend()\n",
    "    plt.xlabel(\"Iteration\")\n",
    "    plt.ylabel(\"Fitness\")\n",
    "    plt.show()\n",
    "    \n",
    "    print(\"x_minimum :\\n{}\".format(res.x))\n",
    "\n",
    "\n",
    "def Minimize_PSO(func, targetmin=None, nb_particles=None, stable_iter=None, self_confid=None, swarm_confid=None, \n",
    "                 bounds_min = None, bounds_max = None):\n",
    "    \"\"\" Minimize func using Particle Swarm Optimization with a given particle self confidence and swarm condifence\n",
    "        Stopping condition : Maximum change in best fitness smaller than default tol=1e-6 for stable_iter iterations\"\"\"\n",
    "    \n",
    "    print(\"Number of dimensions : {}\".format(dim))\n",
    "    \n",
    "    since = time.time()\n",
    "    \n",
    "    # Generate nb_particles particles of dimension dim, with coordinates between min and max\n",
    "    x0 = np.random.uniform(bounds_min, bounds_max, (nb_particles, dim))\n",
    "    \n",
    "    # Run Particle Swarm Optimization\n",
    "    res = minimize_pso(func, x0, options={'stable_iter': stable_iter, 'l_rate':self_confid, 'g_rate':swarm_confid, \n",
    "                       'verbose' : False, 'savefile': \"output.csv\"})\n",
    "    \n",
    "    # Show results\n",
    "    print(\"Computational time : {:.2f} s\".format(time.time()-since))\n",
    "    print(\"Fitness at minimum (result): {:.4f} \".format(res.fun))\n",
    "    print(\"Fitness at minimum (real): {:.4f} \".format(targetmin))\n",
    "    print(\"Function evaluations : {}\".format(res.nit*nb_particles))\n",
    "\n",
    "    converg = pd.read_csv(\"output.csv\", sep=\",\")\n",
    "    plt.plot(converg.Iter+1, converg.Func, label=\"Convergence curve\")\n",
    "    plt.axhline(y=targetmin, color=\"r\", label=\"Actual Minimum = \"+str(targetmin))\n",
    "    plt.legend()\n",
    "    plt.xlabel(\"Iteration\")\n",
    "    plt.ylabel(\"Fitness\")\n",
    "    plt.show()\n",
    "    \n",
    "    print(\"x_minimum :\\n{}\".format(res.x))"
   ]
  },
  {
   "cell_type": "markdown",
   "metadata": {},
   "source": [
    "D = 50"
   ]
  },
  {
   "cell_type": "markdown",
   "metadata": {},
   "source": [
    "Particle Swarm Optimization"
   ]
  },
  {
   "cell_type": "code",
   "execution_count": 17,
   "metadata": {},
   "outputs": [
    {
     "name": "stdout",
     "output_type": "stream",
     "text": [
      "Number of dimensions : 50\n",
      "Computational time : 16.15 s\n",
      "Fitness at minimum (result): 68597.3467 \n",
      "Fitness at minimum (real): 390.0000 \n",
      "Function evaluations : 248250\n"
     ]
    },
    {
     "data": {
      "image/png": "[encoded data removed]",
      "text/plain": [
       "<Figure size 432x288 with 1 Axes>"
      ]
     },
     "metadata": {
      "needs_background": "light"
     },
     "output_type": "display_data"
    },
    {
     "name": "stdout",
     "output_type": "stream",
     "text": [
      "x_minimum :\n",
      "[-74.47603823 -35.13252141 -59.26843555  37.71449268  53.45602197\n",
      " -29.96039433  49.84442866  49.21241615 -73.10402911 -30.46002139\n",
      " -43.55027461 -22.23940564  70.73739857  47.3344933  -46.63542501\n",
      "  -7.99860387 -41.55664567 -16.34049448  33.89444058  57.26297629\n",
      "  58.71996432 -16.77585463  25.63049654 -63.33919214 -31.23412412\n",
      " -85.91368086  46.96279956  -9.51806573 -84.844307   -70.82234698\n",
      "  82.77151207  20.28125697 -45.21726312  77.55537757 -14.0787658\n",
      " -81.45863068  73.16515869  85.42238113  26.84550471  39.76324995\n",
      "  -3.39894311  32.31955996 -23.07791543 -17.92507411   0.72105782\n",
      " -83.38843217  87.96165001 -36.21959271 -45.22412453  -3.87985031]\n"
     ]
    }
   ],
   "source": [
    "dim = 50\n",
    "Minimize_PSO(Shifted_Rosenbrock, targetmin=f_bias[2], nb_particles=250, stable_iter=100, self_confid=2, swarm_confid=10,\n",
    "            bounds_min = -100, bounds_max = 100)"
   ]
  },
  {
   "cell_type": "markdown",
   "metadata": {},
   "source": [
    "Conjugate Gradient"
   ]
  },
  {
   "cell_type": "code",
   "execution_count": 13,
   "metadata": {},
   "outputs": [
    {
     "name": "stdout",
     "output_type": "stream",
     "text": [
      "Number of dimensions : 50\n",
      "Optimization terminated successfully.\n",
      "         Current function value: 390.011795\n",
      "         Iterations: 590\n",
      "         Function evaluations: 48048\n",
      "         Gradient evaluations: 924\n",
      "Computational time : 1.41 s\n",
      "Fitness at minimum (result): 390.0118 \n",
      "Fitness at minimum (real): 390.0000 \n"
     ]
    },
    {
     "data": {
      "image/png": "[encoded data removed]",
      "text/plain": [
       "<Figure size 432x288 with 1 Axes>"
      ]
     },
     "metadata": {
      "needs_background": "light"
     },
     "output_type": "display_data"
    },
    {
     "name": "stdout",
     "output_type": "stream",
     "text": [
      "x_minimum :\n",
      "[-75.42761235 -35.73174602 -57.59559778  38.9098239   52.24762056\n",
      " -30.3610222   50.69081913  49.7986688  -71.15509316 -30.78365196\n",
      " -43.00093614 -20.08810511  71.52728253  48.02000594 -46.02769154\n",
      "  -8.16345807 -40.97563237 -13.82740787  35.81651657  57.1377779\n",
      "  58.58535235 -17.41235689  27.28772874 -62.56238547 -28.81686138\n",
      " -86.5285588   48.29259542  -7.58198669 -82.15963498 -72.07882983\n",
      "  82.24641338  19.58462068 -45.58577275  77.3135174  -12.61289379\n",
      " -81.18439041  72.87815379  86.0820888   28.40057393  40.85296505\n",
      "  -2.04692948  33.44007051 -24.67212213 -17.82366165   2.57744425\n",
      " -81.82034168  88.42040229 -34.31802097 -43.9283934   19.64040727]\n"
     ]
    }
   ],
   "source": [
    "dim = 50\n",
    "Minimize_CG(Shifted_Rosenbrock, targetmin=f_bias[2], tol=0.1, bounds_min=-100, bounds_max=100)"
   ]
  },
  {
   "cell_type": "markdown",
   "metadata": {},
   "source": [
    "D = 500"
   ]
  },
  {
   "cell_type": "markdown",
   "metadata": {},
   "source": [
    "Particle Swarm Optimization"
   ]
  },
  {
   "cell_type": "code",
   "execution_count": 15,
   "metadata": {},
   "outputs": [
    {
     "name": "stdout",
     "output_type": "stream",
     "text": [
      "Number of dimensions : 500\n",
      "Computational time : 73.24 s\n",
      "Fitness at minimum (result): 372740043.7084 \n",
      "Fitness at minimum (real): 390.0000 \n",
      "Function evaluations : 299700\n"
     ]
    },
    {
     "data": {
      "image/png": "[encoded data removed]",
      "text/plain": [
       "<Figure size 432x288 with 1 Axes>"
      ]
     },
     "metadata": {
      "needs_background": "light"
     },
     "output_type": "display_data"
    },
    {
     "name": "stdout",
     "output_type": "stream",
     "text": [
      "x_minimum :\n",
      "[-8.54097537e+01 -4.27627354e+01 -7.06477900e+01  4.06183820e+01\n",
      "  5.81364420e+01 -1.83485004e+01  4.41417375e+01  3.74553549e+01\n",
      " -6.48677710e+01 -1.85115821e+01 -4.54018782e+01 -2.26811154e+01\n",
      "  7.48464312e+01  3.75523002e+01 -3.69900425e+01  4.74402030e-01\n",
      " -4.40031844e+01 -4.96072785e+00  4.99660618e+01  4.46403731e+01\n",
      "  6.17190655e+01 -2.59329172e+01  3.03013659e+01 -5.38945658e+01\n",
      " -2.68368640e+01 -8.90609854e+01  4.56283766e+01 -3.53114058e+00\n",
      " -8.36512516e+01 -6.49049940e+01  8.70187785e+01  1.09487828e+01\n",
      " -5.38548143e+01  6.99937597e+01 -2.49135542e+01 -7.37799165e+01\n",
      "  6.49966175e+01  8.96557652e+01  1.92478311e+01  2.80474857e+01\n",
      " -8.22658401e+00  3.54507340e+01 -2.03740896e+01 -1.10360136e+01\n",
      "  1.23767449e+01 -8.99949060e+01  7.82372068e+01 -3.18365241e+01\n",
      " -4.26750163e+01  8.16192086e+00 -9.17302775e+00 -1.92589619e+01\n",
      " -1.81498783e+01  3.24606207e+01 -7.26654443e+01 -2.90022558e+01\n",
      "  5.34069493e+01 -5.92838501e+01  2.55746604e+01 -3.80890189e+01\n",
      "  3.50052548e+01 -3.58284462e+01  4.09915120e-01  6.33100256e+01\n",
      "  6.27532303e+01  1.94177394e+00 -2.15684556e+01 -4.03315217e+00\n",
      "  6.48843152e+00  8.75052917e+01 -3.91003151e+01 -3.82064603e+01\n",
      "  1.01664099e+01  7.95362610e+01  3.10176310e+01 -4.31945110e+01\n",
      " -7.10374003e+01  3.01165053e+01  3.93685394e+01 -3.12283230e+01\n",
      "  6.76747770e+01  5.86494718e+00  2.50878135e+01  6.96805323e+01\n",
      " -4.88335372e+01  3.01755373e+01 -1.43716544e+00  5.71432702e+01\n",
      "  6.19157650e+00  1.17373439e+01 -1.08501193e+01  7.84288012e+01\n",
      " -1.95042564e+01 -4.33744991e+01 -6.20208469e+01  2.61400637e+01\n",
      "  9.41644895e+00  5.12792900e+01  2.25433335e+00 -7.68256015e+01\n",
      " -7.91895419e+01  6.24530877e+01 -8.60558383e+01  5.41782637e+01\n",
      "  3.92526308e+00 -3.11550930e+01  9.32517610e+01 -6.02317720e-01\n",
      " -5.17924994e+01  5.96640503e+01  3.84534097e+01  5.06844670e+01\n",
      " -6.32426299e+01  3.49348449e+00 -1.84414995e+01  4.06067758e+01\n",
      "  7.84472551e+01  2.67206702e+01  2.20406577e+01  6.24856800e+01\n",
      "  5.97356412e+00  7.23688383e+00 -4.54655901e+01  2.36425515e+01\n",
      "  3.51671244e+01 -3.25573078e+01 -1.69733953e-01 -8.03660134e+00\n",
      " -7.50147942e+01  7.92188022e+01 -3.21004412e+01 -5.48980933e+01\n",
      "  7.21340790e+01  2.42976071e+01 -7.90960766e+00  5.55182576e+01\n",
      " -7.13045772e+01 -1.34600591e+01  4.05725869e+01  1.15925333e+01\n",
      " -5.93337528e+01 -1.67070056e+01  9.76195361e+00 -1.94790624e+01\n",
      "  2.07333357e+01  1.71162049e+00 -8.37756753e+00  3.72976072e+01\n",
      "  8.26134744e+01 -4.33737978e+01  7.89066115e+01  6.77092929e+01\n",
      "  1.75054445e+01 -4.35515111e+01  6.58229219e+01 -6.59178780e+01\n",
      "  6.92084379e+01  1.10492423e+01  1.63731252e+01 -8.16384052e+01\n",
      "  4.51516819e+01  7.30203768e+01 -8.44381625e+01  1.21043392e+01\n",
      "  1.20352516e+01 -3.84528733e+01 -1.12617598e+01  7.88080096e+01\n",
      " -2.43244657e+01  1.54880639e+01 -4.83816328e+01 -5.67115052e+01\n",
      "  9.61200970e+01 -3.96549882e+01 -6.21429295e+01 -7.55761494e+01\n",
      " -4.05326721e+01  4.25858617e+01 -6.00667141e+00  1.34104969e+01\n",
      "  6.41359162e+00 -8.27393939e+01  8.16176824e+01 -1.99991911e+01\n",
      " -3.85270920e+01  6.97613657e+01 -4.60788775e+01 -4.24041810e+01\n",
      " -2.83969879e+01  2.27245703e+01  7.56976916e+00 -1.63708808e+01\n",
      "  6.98505191e+01  6.71472526e+01 -9.16735273e+01  4.49822406e+01\n",
      " -1.19603616e+01  1.38980551e-01 -8.39119951e+01 -3.10524734e+01\n",
      " -4.62375219e+01 -3.79848348e+00  3.37088265e+01 -8.33429766e+01\n",
      " -3.75744778e+01 -2.41037661e+01 -8.46961948e+01  6.02952291e+01\n",
      " -7.26403694e+00 -3.83231434e+01  5.48626023e+01  2.26552220e+01\n",
      "  8.78567119e+00 -6.33839666e+01  7.89996487e+01  4.34435797e+01\n",
      " -1.68455285e+01 -1.67381194e+01  1.97639461e+01  1.61394843e+01\n",
      "  3.51512528e+01 -5.85241081e+00  2.41678043e+01 -3.98813053e+01\n",
      " -2.27042188e+01 -4.23807758e+01 -6.53472437e+01 -5.60757004e+01\n",
      "  7.06222840e+01  1.93397028e+01  3.45408906e+01  5.79821208e+01\n",
      " -1.04247016e+01 -2.29748821e+01 -2.04705698e+01 -6.66403234e+01\n",
      " -6.68644171e+00  7.13587822e+01 -2.29266294e+01 -3.77001964e+01\n",
      "  4.66827856e+01 -5.82201252e+01 -7.00677429e+01 -5.25628275e+01\n",
      "  6.88870625e+01  4.45585294e+01 -1.11717914e+01 -3.51064866e+01\n",
      "  1.31480036e+01  9.30570715e+01  2.79237839e+01 -4.42848136e+01\n",
      "  3.68344665e+01 -9.85555826e+01  5.89211162e+01 -4.20001521e+01\n",
      " -5.63720733e+01  7.92376594e+01  2.52973298e+01 -9.26272354e+01\n",
      " -7.15151492e+01 -2.97364209e+01  5.94896449e+01 -5.97527421e+01\n",
      " -7.66750816e+01  6.72379371e+01 -3.61657083e+01 -2.05895358e+01\n",
      "  3.70793276e+01  5.18008276e+01  4.79185668e+01 -6.71087520e+01\n",
      "  1.40079946e+01  3.29093353e+01 -3.27013241e+01  1.27648666e+01\n",
      " -2.40022028e+01 -4.56363118e-01 -1.53358394e+01  3.48011609e+01\n",
      "  5.80310644e+01  5.68000496e+01  7.60602451e+00  9.12955839e+01\n",
      "  1.11111050e+01 -8.33383569e+01 -5.01058193e+01 -3.69104585e+00\n",
      "  1.02045101e+01 -6.07530652e+01 -6.12652265e+01  8.02865128e+01\n",
      " -3.58278597e+01 -8.94966632e+00 -6.22970892e+01  1.37046866e+01\n",
      " -7.23565353e+01 -1.59980069e+01 -7.22741490e+01  2.01734597e+01\n",
      " -8.12297009e+01  1.28328389e+01 -1.31349937e+01 -2.86492611e+01\n",
      " -2.91229269e+01 -6.96967175e+00 -4.59488456e+00  4.78706457e+01\n",
      " -2.01781124e+01  1.59482940e+00 -6.48798146e+01  1.14484638e+01\n",
      "  1.48841070e+01  3.81829428e+01  1.89037697e+01  3.50993785e+01\n",
      " -6.68575005e+01  6.39607864e+01  8.41356683e+01  3.19024472e+01\n",
      " -5.85701104e+01  2.32508648e+01 -6.09331444e+01  7.26346845e+01\n",
      "  3.21991235e+01  5.63682631e+01 -5.03908438e+01 -1.73741863e+01\n",
      " -2.34026271e+01 -4.18653724e+01 -8.08444974e+01 -2.55723398e+01\n",
      " -6.56508852e+01 -6.93505285e+01 -1.99600866e+01  2.33143741e+01\n",
      "  4.48686157e+01 -9.88262610e+00 -5.18161516e+01 -2.18298488e+01\n",
      "  7.98828732e+01 -2.41036354e+01  5.97404839e+01 -6.65619362e+01\n",
      " -1.25987016e+00  6.10040345e+01  7.26546264e+01 -2.53824393e+00\n",
      " -1.53830106e+01 -4.74079577e+01 -2.27333492e+01  6.30778166e+01\n",
      " -8.37655647e+01 -3.39127209e+01 -7.52743635e+01  7.91599200e+01\n",
      " -6.61596776e+01  7.12241272e+01 -5.65366460e+01 -4.64073861e+01\n",
      " -5.60415996e+01  4.00446271e+01  1.87523502e+01  3.12250151e+01\n",
      "  5.87994065e+01  9.82092633e+00  7.21514408e+01 -3.28386572e+01\n",
      "  4.05344568e+01 -5.13398737e+01  2.88869496e+01  3.50283947e+01\n",
      "  4.65472329e+01 -3.04721201e+01 -4.28316616e+01 -3.48092231e+01\n",
      "  6.96517929e+01  2.91824111e+01  2.36353740e+01 -6.00848379e+01\n",
      "  2.39483467e+01 -7.07210683e+01 -6.92891856e+01  1.10151374e+01\n",
      "  2.71180433e+01 -5.48999240e+01 -5.88340243e+01 -5.75018020e+01\n",
      "  5.73583350e+01  5.64958863e+01  2.03166511e+01  6.64048686e+01\n",
      "  7.78018866e+01  8.18852084e+01  7.65581842e+01  9.95016540e+00\n",
      "  4.80449609e+01 -4.62235258e+01 -1.67557703e+01  3.94341499e+01\n",
      " -5.18166490e+01 -5.64874676e+01 -3.97306486e+00 -9.10519156e+01\n",
      " -5.78171862e+01 -4.66744703e+00 -4.31819525e+00 -1.09398812e+01\n",
      "  7.24975186e+01 -4.48197153e+01  1.86634769e+01  7.10580015e+01\n",
      " -8.46757007e+01  6.26141832e+01 -9.67851635e+00 -1.39064675e+01\n",
      "  2.82086548e+01  4.63702585e+01  8.20871553e+01  6.69305862e+01\n",
      " -9.17165825e+01 -1.56820101e+01  1.75513936e+01 -7.63792426e+01\n",
      "  2.01087699e+01  4.12209203e+00  3.52841429e+01 -5.71607760e+01\n",
      "  1.43641745e+00 -3.64129147e+00  6.77887252e+01 -2.99956447e+01\n",
      " -5.26563255e+01  4.82723509e+01 -2.30680462e+01 -1.29050883e+01\n",
      "  2.82272155e+01  4.86394969e+00 -6.79127063e+01 -7.03564970e+01\n",
      " -1.33848668e+01  9.76249080e+00  3.70583406e+01  7.81956193e+01\n",
      " -1.41774390e+01 -7.73278000e+01  4.43072369e+01 -4.12623762e+01\n",
      " -2.31809133e+01  6.75799988e+01 -6.09846209e+01 -1.68370310e+01\n",
      "  2.42069596e+01 -8.66061462e+01 -3.71502386e+01  7.05705810e+01\n",
      "  2.71600409e+01 -7.06487645e+01 -2.95732204e+01 -6.35122991e+01\n",
      " -3.46991303e+01  4.04998155e+01  3.93099538e+01  1.14501401e+01\n",
      " -8.31110982e+01  5.52223816e+01 -4.36741724e+01 -7.53622427e+00\n",
      " -7.13977489e+01  1.26589140e+01 -2.67098663e+01  4.05159198e+01\n",
      " -1.38436577e+01  7.48549453e+01 -8.56373560e+00 -1.48112311e+01\n",
      " -7.24858267e+01  1.01063861e+02  7.27041820e+01 -1.42513385e+01\n",
      "  1.61012186e+01  1.69085355e-01  7.84110174e+01 -1.01399908e+02\n",
      " -5.69948940e+01 -4.43251918e+01 -6.96308596e+01  5.46471535e+01\n",
      "  1.47184806e+01 -5.36047253e+01 -9.94470744e-02 -4.41377062e+01\n",
      " -8.23871810e+01 -7.50492350e+01  1.84115833e+01  6.95281473e+01\n",
      "  7.67535495e+01  4.46966971e+01 -5.51544574e+01 -1.97971084e+01]\n"
     ]
    }
   ],
   "source": [
    "dim = 500\n",
    "\n",
    "Minimize_PSO(Shifted_Rosenbrock, targetmin=f_bias[2], nb_particles=300, stable_iter=100, self_confid=2, swarm_confid=15,\n",
    "            bounds_min = -100, bounds_max = 100)"
   ]
  },
  {
   "cell_type": "markdown",
   "metadata": {},
   "source": [
    "Conjugate Gradient"
   ]
  },
  {
   "cell_type": "code",
   "execution_count": 21,
   "metadata": {},
   "outputs": [
    {
     "name": "stdout",
     "output_type": "stream",
     "text": [
      "Number of dimensions : 500\n",
      "Optimization terminated successfully.\n",
      "         Current function value: 390.000307\n",
      "         Iterations: 5397\n",
      "         Function evaluations: 4089292\n",
      "         Gradient evaluations: 8146\n",
      "Computational time : 292.28 s\n",
      "Fitness at minimum (result): 390.0003 \n",
      "Fitness at minimum (real): 390.0000 \n"
     ]
    },
    {
     "data": {
      "image/png": "[encoded data removed]",
      "text/plain": [
       "<Figure size 432x288 with 1 Axes>"
      ]
     },
     "metadata": {
      "needs_background": "light"
     },
     "output_type": "display_data"
    },
    {
     "name": "stdout",
     "output_type": "stream",
     "text": [
      "x_minimum :\n",
      "[-75.42752836 -35.7317016  -57.59564409  38.90984563  52.24768176\n",
      " -30.36102772  50.69081431  49.79866077 -71.15514751 -30.78367522\n",
      " -43.0009508  -20.08811852  71.52725623  48.01996277 -46.02767981\n",
      "  -8.16344131 -40.9756443  -13.82735778  35.81657197  57.1377877\n",
      "  58.58538379 -17.41231587  27.28778522 -62.5623636  -28.8169195\n",
      " -86.52863538  48.29261812  -7.58193517 -82.15963831 -72.07887193\n",
      "  82.24637541  19.58463974 -45.5857432   77.31349808 -12.61296221\n",
      " -81.18446189  72.87815784  86.08218099  28.40065178  40.85306629\n",
      "  -2.04659285  33.44086952 -24.67059355 -17.82064984   2.58348732\n",
      " -81.80819526  88.44454514 -34.27036389 -43.8351305   19.8185994\n",
      "  -9.54309788 -14.68097439 -15.86845753  38.53019    -71.4999599\n",
      " -21.56900607  45.44109101 -63.14931696  28.95883416 -47.35024062\n",
      "  40.97029898 -43.46420475  -5.488085    64.35260993  60.01432006\n",
      "  -4.3241324  -28.77578107   7.59854702  11.07048487  76.53919023\n",
      " -40.60931354 -36.78450254  20.25823567  70.31500795  38.60079728\n",
      " -53.7299416  -70.52958219  42.84576272  47.16411574 -39.78419287\n",
      "  62.13929769  22.38955518  21.90072342  81.88082584 -36.82563118\n",
      "  23.72765129   5.6329753   66.80984137  15.20214482  18.4737481\n",
      "  -2.13281714  79.67687954 -27.62526018 -54.05573654 -72.34202642\n",
      "  27.38077734  19.07410375  55.99390639  -6.88383585 -73.13042585\n",
      " -71.5148675   67.41796225 -79.063926    62.50279389  -8.26048126\n",
      " -45.32741592  87.94455442  11.57722893 -50.30438031  67.95149388\n",
      "  40.9614564   63.5551808  -58.0179099    7.25442082  -5.00683513\n",
      "  41.83101128  86.50749827  30.02807283  32.96436522  67.57083457\n",
      "   1.38476998  -5.77927133 -45.92791476  11.88517996  46.93037284\n",
      " -27.86958414  -9.4415233    2.84194192 -61.67810165  86.55809759\n",
      " -36.22430984 -62.17159084  78.43288364  31.29507836 -12.97619199\n",
      "  59.90557594 -59.161827   -10.68442469  45.43947895  20.78925237\n",
      " -44.24956748 -26.92659084  20.34227113 -29.20959228  24.47857214\n",
      "   2.98879524   3.51640022  22.76085808  80.85396986 -49.77293227\n",
      "  89.03572311  67.93294554  22.67034498 -51.86190518  74.79739634\n",
      " -65.83477807  84.25171013  21.58309379  25.33874678 -87.55750274\n",
      "  52.11593274  71.91997149 -89.60792489   2.94052749  22.39687916\n",
      " -42.26593523 -18.18329527  85.97309663 -35.33266477  12.01592235\n",
      " -51.09798465 -65.62708574  86.15161959 -51.42041967 -65.55827634\n",
      " -80.52064934 -42.36502807  46.3177999  -11.57535011   1.19846513\n",
      "  -0.94974677 -73.04236349  84.81781588 -13.51798497 -41.36572399\n",
      "  78.34504255 -50.26515759 -55.86851585 -39.49281602  31.33072479\n",
      "  17.67695938 -20.00756213  78.45174255  58.84946218 -80.77042584\n",
      "  58.98637806 -20.19473756  -9.76774868 -88.34912266 -39.56654896\n",
      " -37.43687732 -12.62017846  36.2405573  -88.13564125 -47.34060073\n",
      " -17.73434434 -74.21554265  69.03826887 -11.42777106 -34.41777221\n",
      "  58.36623384  33.74883541   5.474515   -58.03403682  71.46244448\n",
      "  55.79432581 -19.95680428  -3.78037168  19.33208955  27.34280611\n",
      "  47.25425505  -9.41234325  25.73685034 -39.49501222 -10.2084362\n",
      " -45.32327879 -62.70861319 -52.8251627   74.54882534  14.8693653\n",
      "  34.79466787  64.16838449  -2.43444056 -28.30817283 -14.64385888\n",
      " -68.631813     3.34181904  84.88508217 -30.76688869 -28.94946184\n",
      "  54.33761331 -61.25403508 -61.33620503 -60.54039348  74.58288315\n",
      "  49.50330361 -12.62042747 -43.3518331   22.02971921  87.34488183\n",
      "  24.64722656 -48.04852879  51.20967561 -89.38710941  53.53372989\n",
      " -52.62218945 -54.08457314  85.96429148  22.1528783  -80.06115403\n",
      " -64.38629214 -16.58843798  50.06722324 -60.70187323 -85.28297482\n",
      "  63.24349164 -44.4731311  -18.87197927  33.71183553  66.77810073\n",
      "  32.576999   -64.94404938  13.85808125  33.19435611 -33.08448256\n",
      "   2.1302753   -9.70177274   3.63260585 -24.11426422  27.41546247\n",
      "  66.88070421  66.23504109   5.36481597  82.67666685  16.38284489\n",
      " -85.80365322 -57.19845497  -5.85588413  20.41524366 -64.86216016\n",
      " -51.88106038  88.21278708 -30.59263868 -13.34946343 -63.67383333\n",
      "   8.23206417 -73.44396591 -11.70792522 -74.9380171    9.88422632\n",
      " -86.79148842  25.93879129 -19.39258459 -31.20486186 -42.33261677\n",
      "   1.85009192  -8.0082525   55.86733252  -5.88205931   3.33109232\n",
      " -53.44474492  14.51624674  17.58586657  28.18216809  14.66680584\n",
      "  47.49245905 -60.55930971  61.15512101  89.33745469  28.8244177\n",
      " -67.81435196  15.68455057 -63.67730669  80.95005254  43.55656822\n",
      "  67.06937582 -60.37328895  -4.71872036 -27.60611428 -36.33930609\n",
      " -82.76785354 -21.3118401  -66.25195299 -64.26264647 -21.24830655\n",
      "  24.62620497  50.46212121 -12.98379343 -59.17546908 -23.99660517\n",
      "  86.00687355  -7.32541217  67.34444471 -62.62415245 -10.35838665\n",
      "  75.74288385  86.47007765  -6.56212874 -27.99169782 -52.29949845\n",
      " -33.08043723  71.61127307 -77.28474146 -45.37372281 -86.42548657\n",
      "  89.43463423 -71.97646089  75.39500678 -65.87874863 -53.0914379\n",
      " -60.4524326   49.86940956  10.82536716  29.72000353  67.24161566\n",
      "  19.76915252  78.9909736  -38.5969895   47.68121514 -63.12125851\n",
      "  21.48744526  22.17664651  55.50317796 -32.78582065 -27.25574597\n",
      " -44.35709841  75.86942995  36.62738919  37.12068659 -62.88897336\n",
      "  36.67206253 -76.71708099 -80.54584173   4.25296879  26.91851604\n",
      " -47.99076442 -64.77554858 -47.23451376  67.35084711  64.93224771\n",
      "  27.28951944  67.34523074  83.46308008  80.38060383  69.53888427\n",
      "   6.78199807  56.37038302 -46.34966908 -24.48909537  31.95632924\n",
      " -54.52499535 -54.9877257    9.06863976 -86.69123329 -61.01747601\n",
      "   6.33053296 -12.94059875 -16.72381431  59.80792455 -55.31390964\n",
      "  32.38846733  75.29780797 -81.68512349  68.55390494 -13.97127657\n",
      "  -7.97670028  21.13011503  43.68743463  89.27787646  77.02939624\n",
      " -86.56043371 -21.3789268   28.25907624 -84.92062408  20.07474175\n",
      "   4.3089896   22.12744147 -64.89968808  -8.77540093 -16.34997321\n",
      "  73.60825579 -17.79610986 -55.66783321  56.98975642 -13.94102722\n",
      " -20.55818325  38.89578601  18.94765281 -75.27306378 -66.5269152\n",
      " -23.78347735  10.81145085  43.23405694  86.84141937  -2.55999693\n",
      " -89.92976992  50.69846206 -27.50959644 -36.74048407  59.6754064\n",
      " -72.36843055 -22.70860125  25.24768076 -83.86636007 -32.51092806\n",
      "  83.09792824  29.95151547 -74.43125924 -43.99872684 -64.30662102\n",
      " -40.08764086  49.7600729   37.43665794  18.52619524 -82.90459249\n",
      "  62.22268012 -48.64655846  -0.88863339 -84.5884056   26.63036503\n",
      " -17.92020724  48.152651   -20.90459682  70.45372572 -16.59737636\n",
      " -22.17054282 -74.07912449  86.86381027  75.90520449  -6.85718923\n",
      "  11.06396974  -1.19003426  88.91587353 -85.37835899 -43.28710114\n",
      " -31.11070254 -67.88226366  44.26775954  23.28499414 -54.61297098\n",
      "  -6.52164897 -42.12830296 -89.3481606  -69.16404122  10.60401658\n",
      "  70.60666057  72.21361537  35.97168226 -47.93476876   5.28111031]\n"
     ]
    }
   ],
   "source": [
    "dim = 500\n",
    "Minimize_CG(Shifted_Rosenbrock, targetmin=f_bias[2], tol=0.1, bounds_min=-100, bounds_max=100)"
   ]
  },
  {
   "cell_type": "markdown",
   "metadata": {},
   "source": [
    "The PSO algorithm converges but fails to reach the global minimum, within in a reasonable time after parameter tuning while the conjugate gradient algorithm computes the exact solution to the rosenbrock problem for both D=50 and D=500."
   ]
  }
 ],
 "metadata": {
  "celltoolbar": "Raw Cell Format",
  "kernelspec": {
   "display_name": "Python 3",
   "language": "python",
   "name": "python3"
  },
  "language_info": {
   "codemirror_mode": {
    "name": "ipython",
    "version": 3
   },
   "file_extension": ".py",
   "mimetype": "text/x-python",
   "name": "python",
   "nbconvert_exporter": "python",
   "pygments_lexer": "ipython3",
   "version": "3.8.2"
  }
 },
 "nbformat": 4,
 "nbformat_minor": 4
}
