{
 "cells": [
  {
   "cell_type": "markdown",
   "metadata": {},
   "source": [
    "**Shifted Sphere Function**"
   ]
  },
  {
   "cell_type": "markdown",
   "metadata": {},
   "source": [
    "Environment : Python 3.8.2 & Jupyter Notebook<br>"
   ]
  },
  {
   "cell_type": "markdown",
   "metadata": {},
   "source": [
    "The objective is to solve unconstrained problem : F1 as described in the “CEC2008_TechnicalReport.pdf” for both dimensions D = 50 and D = 500. <br>\n",
    "F1: Shifted Sphere<br>\n",
    "\n",
    "The coordinates of the shifted global minimum of this function in dim = 1000 are provided in a numpy array in a data file \"data.py\". These are the target coordinates to be achieved.<br>\n",
    "F1: spheredat -> shape = (1000,) <br>\n",
    "\n",
    "The fitness or value of this function at its minimum is also available in numpy array \"f_bias\" in \"data.py\". This is the the target fitness value to achieve.<br>\n",
    "f_bias[0] = F1_min = -450\n",
    "<img src=\"Functions.png\">"
   ]
  },
  {
   "cell_type": "markdown",
   "metadata": {},
   "source": [
    "Import Libraries"
   ]
  },
  {
   "cell_type": "code",
   "execution_count": 3,
   "metadata": {},
   "outputs": [],
   "source": [
    "import random\n",
    "import numpy as np\n",
    "import matplotlib.pyplot as plt\n",
    "import pandas as pd\n",
    "import time\n",
    "\n",
    "from scipy.optimize import minimize\n",
    "from psopy import minimize as minimize_pso"
   ]
  },
  {
   "cell_type": "markdown",
   "metadata": {},
   "source": [
    "**Import Data**"
   ]
  },
  {
   "cell_type": "code",
   "execution_count": 4,
   "metadata": {
    "scrolled": true
   },
   "outputs": [
    {
     "name": "stdout",
     "output_type": "stream",
     "text": [
      "(1000,)\n",
      "-450.0\n"
     ]
    }
   ],
   "source": [
    "# Import data in data.py file and print shape of input arrays\n",
    "from data import *\n",
    "print(spheredat.shape)\n",
    "print(f_bias[0])"
   ]
  },
  {
   "cell_type": "markdown",
   "metadata": {},
   "source": [
    "- Algorithm : Particle Swarm Optimization. This algorithm is fast and suitable for high dimensions. The conjugate gradient descent algorithm works well on this continuous differentiable function.\n",
    "- Library : psopy(PSO) & Scipy (CG)\n",
    "- Parameters of the algorithm : Number of particles in the swarm\n",
    "- Stopping criterion : stable_iter (the number of iterations with a stable result) = 100\n",
    "- Number of function evaluations : see below\n",
    "- Computational time : see below\n",
    "- Convergence curve : see below\n",
    "- Final results (solution and fitness) : see below"
   ]
  },
  {
   "cell_type": "code",
   "execution_count": 10,
   "metadata": {},
   "outputs": [],
   "source": [
    "# Define objective function to minimize\n",
    "def Shifted_Sphere(x):\n",
    "    return f_bias[0] + np.sum(np.power(x[:dim] - spheredat[:dim], 2))\n",
    "\n",
    "\n",
    "def Minimize_CG(func, targetmin=None, tol=None, bounds_min = None, bounds_max = None):\n",
    "    \"\"\"Minimize func in dim dimensions using Conjugate Gradient algorithm\n",
    "       Expected minimum is targetmin\"\"\"\n",
    "    \n",
    "    print(\"Number of dimensions : {}\".format(dim))\n",
    "    \n",
    "    since = time.time()\n",
    "    \n",
    "    # Initial guess\n",
    "    x0 = np.random.uniform(bounds_min, bounds_max, dim)\n",
    "    \n",
    "    # Store convergence data\n",
    "    convergdata = []\n",
    "    def convergcurve(x):\n",
    "        convergdata.append(func(x))\n",
    "    \n",
    "    # Run minimization algorithm\n",
    "    res = minimize(func, x0, method='CG',\n",
    "                   options={'gtol': tol, 'disp': True}, callback=convergcurve)\n",
    "    \n",
    "    # Show results\n",
    "    print(\"Computational time : {:.2f} s\".format(time.time()-since))\n",
    "    print(\"Fitness at minimum (result): {:.4f} \".format(res.fun))\n",
    "    print(\"Fitness at minimum (real): {:.4f} \".format(targetmin))\n",
    "\n",
    "    plt.plot(range(1,len(convergdata)+1),convergdata, label=\"Convergence curve\")\n",
    "    plt.axhline(y=targetmin, color=\"r\", label=\"Actual Minimum = \"+str(targetmin))\n",
    "    plt.legend()\n",
    "    plt.xlabel(\"Iteration\")\n",
    "    plt.ylabel(\"Fitness\")\n",
    "    plt.show()\n",
    "    \n",
    "    print(\"x_minimum :\\n{}\".format(res.x))\n",
    "\n",
    "def Minimize_PSO(func, targetmin=None, nb_particles=None, stable_iter=None, self_confid=None, swarm_confid=None, \n",
    "                 bounds_min = None, bounds_max = None):\n",
    "    \"\"\" Minimize func using Particle Swarm Optimization with a given particle self confidence and swarm condifence\n",
    "        Stopping condition : Maximum change in best fitness smaller than default tol=1e-6 for stable_iter iterations\"\"\"\n",
    "    \n",
    "    print(\"Number of dimensions : {}\".format(dim))\n",
    "    \n",
    "    since = time.time()\n",
    "    \n",
    "    # Generate nb_particles particles of dimension dim, with coordinates between min and max\n",
    "    x0 = np.random.uniform(bounds_min, bounds_max, (nb_particles, dim))\n",
    "    \n",
    "    # Run Particle Swarm Optimization\n",
    "    res = minimize_pso(func, x0, options={'stable_iter': stable_iter, 'l_rate':self_confid, 'g_rate':swarm_confid, \n",
    "                       'verbose' : False, 'savefile': \"output.csv\"})\n",
    "    \n",
    "    # Show results\n",
    "    print(\"Computational time : {:.2f} s\".format(time.time()-since))\n",
    "    print(\"Fitness at minimum (result): {:.4f} \".format(res.fun))\n",
    "    print(\"Fitness at minimum (real): {:.4f} \".format(targetmin))\n",
    "    print(\"Function evaluations : {}\".format(res.nit*nb_particles))\n",
    "\n",
    "    converg = pd.read_csv(\"output.csv\", sep=\",\")\n",
    "    plt.plot(converg.Iter+1, converg.Func, label=\"Convergence curve\")\n",
    "    plt.axhline(y=targetmin, color=\"r\", label=\"Actual Minimum = \"+str(targetmin))\n",
    "    plt.legend()\n",
    "    plt.xlabel(\"Iteration\")\n",
    "    plt.ylabel(\"Fitness\")\n",
    "    plt.show()\n",
    "    \n",
    "    print(\"x_minimum :\\n{}\".format(res.x))"
   ]
  },
  {
   "cell_type": "markdown",
   "metadata": {},
   "source": [
    "D = 50"
   ]
  },
  {
   "cell_type": "markdown",
   "metadata": {},
   "source": [
    "Particle Swarm Optimization"
   ]
  },
  {
   "cell_type": "code",
   "execution_count": 9,
   "metadata": {},
   "outputs": [
    {
     "name": "stdout",
     "output_type": "stream",
     "text": [
      "Number of dimensions : 50\n",
      "Computational time : 4.80 s\n",
      "Fitness at minimum (result): -418.7681 \n",
      "Fitness at minimum (real): -450.0000 \n",
      "Function evaluations : 138750\n"
     ]
    },
    {
     "data": {
      "image/png": "[encoded data removed]",
      "text/plain": [
       "<Figure size 432x288 with 1 Axes>"
      ]
     },
     "metadata": {
      "needs_background": "light"
     },
     "output_type": "display_data"
    },
    {
     "name": "stdout",
     "output_type": "stream",
     "text": [
      "x_minimum :\n",
      "[ 99.0321159   76.78770553 -20.18932769  24.42871781 -22.06983679\n",
      "  69.58111807   4.99923609  61.28465176 -21.02785095  92.42793718\n",
      " -95.00596571  90.05311116  43.18223444  29.98334058 -11.09322657\n",
      " -66.97064493  67.357134    93.65114577 -73.41817062 -49.76405646\n",
      "  81.81557936  35.22638081  24.91773797   1.24715958 -99.17857026\n",
      " -54.73985823  97.86471639  71.71151156 -98.02003437  -3.49098305\n",
      " -15.64422055  55.26884729  -1.05691753   3.17492127  57.52640389\n",
      "  18.29809434 -75.5184196  -77.49151217  32.94953348  99.17386834\n",
      " -30.41850184 -65.05145644 -86.07330917 -38.05436043 -32.54233499\n",
      " -25.64307162  90.77586766  42.61402223  56.05305785  23.61192032]\n"
     ]
    }
   ],
   "source": [
    "dim = 50\n",
    "Minimize_PSO(Shifted_Sphere, targetmin=f_bias[0], nb_particles=250, stable_iter=100, self_confid=2, swarm_confid=10,\n",
    "            bounds_min = -100, bounds_max = 100)"
   ]
  },
  {
   "cell_type": "markdown",
   "metadata": {},
   "source": [
    "Conjugate Gradient"
   ]
  },
  {
   "cell_type": "code",
   "execution_count": 11,
   "metadata": {},
   "outputs": [
    {
     "name": "stdout",
     "output_type": "stream",
     "text": [
      "Number of dimensions : 50\n",
      "Optimization terminated successfully.\n",
      "         Current function value: -450.000000\n",
      "         Iterations: 3\n",
      "         Function evaluations: 520\n",
      "         Gradient evaluations: 10\n",
      "Computational time : 0.02 s\n",
      "Fitness at minimum (result): -450.0000 \n",
      "Fitness at minimum (real): -450.0000 \n"
     ]
    },
    {
     "data": {
      "image/png": "[encoded data removed]",
      "text/plain": [
       "<Figure size 432x288 with 1 Axes>"
      ]
     },
     "metadata": {
      "needs_background": "light"
     },
     "output_type": "display_data"
    },
    {
     "name": "stdout",
     "output_type": "stream",
     "text": [
      "x_minimum :\n",
      "[ 97.24993704  77.06098594 -19.03114875  25.42869858 -22.90880182\n",
      "  69.57217698   5.36971522  61.48073095 -21.30069759  92.34681359\n",
      " -93.97587985  90.74598716  42.8769803   29.30964576 -10.66954857\n",
      " -65.07461754  67.04941672  94.01877097 -73.00502047 -49.8021983\n",
      "  82.00142594  35.29318305  24.63214905   2.44313707 -99.30345097\n",
      " -54.62233834  95.69145831  72.25048129 -97.12295481  -2.84462651\n",
      " -16.71940708  54.58048508  -2.37049255   4.51291342  56.40988711\n",
      "  18.24587056 -74.72144522 -78.05614562  32.58107778  99.4186224\n",
      " -30.76381127 -64.7890959  -86.42220717 -38.12082237 -33.0480407\n",
      " -24.766486    90.44136581  43.86410211  55.86848692  23.53173189]\n"
     ]
    }
   ],
   "source": [
    "dim = 50\n",
    "Minimize_CG(Shifted_Sphere, targetmin=f_bias[0], tol=1e-05, bounds_min = -100, bounds_max = 100)"
   ]
  },
  {
   "cell_type": "markdown",
   "metadata": {},
   "source": [
    "D = 500"
   ]
  },
  {
   "cell_type": "markdown",
   "metadata": {},
   "source": [
    "Particle Swarm Optimization"
   ]
  },
  {
   "cell_type": "code",
   "execution_count": 17,
   "metadata": {},
   "outputs": [
    {
     "name": "stdout",
     "output_type": "stream",
     "text": [
      "Number of dimensions : 500\n",
      "Computational time : 23.26 s\n",
      "Fitness at minimum (result): 1098709.2651 \n",
      "Fitness at minimum (real): -450.0000 \n",
      "Function evaluations : 203500\n"
     ]
    },
    {
     "data": {
      "image/png": "[encoded data removed]",
      "text/plain": [
       "<Figure size 432x288 with 1 Axes>"
      ]
     },
     "metadata": {
      "needs_background": "light"
     },
     "output_type": "display_data"
    },
    {
     "name": "stdout",
     "output_type": "stream",
     "text": [
      "x_minimum :\n",
      "[ 4.78098061e+01  5.44622769e+01 -1.73083330e+01  2.75116827e+01\n",
      "  1.47564142e+00  2.97417450e+01  1.32808595e+01  3.61813453e+01\n",
      " -1.53917604e+01  3.93287585e+01 -8.12600193e+01  3.58077452e+01\n",
      "  3.02313067e+01  7.17311885e+00  3.78413857e+01 -1.59920420e+01\n",
      "  2.87209704e+01  7.32385881e+01  4.84241507e+00  2.95291354e+00\n",
      "  4.19437490e+01  9.35594393e+00  3.27034479e+01 -4.17891146e+01\n",
      " -6.00787268e+01 -7.58482756e+01  4.60086194e+01  9.10219074e+01\n",
      " -4.53009574e+01 -1.48479595e+01 -1.39860715e+00  1.67198731e+01\n",
      "  2.44152244e+00  2.70561955e+01  3.06659112e+01 -1.92406555e+01\n",
      " -3.24361432e+01 -4.21397475e+01  6.30989240e+01  2.23645340e+01\n",
      "  2.60069614e+00 -2.86715782e+01 -4.11270416e+01 -1.98714603e+01\n",
      " -4.87599333e+01 -2.37977663e+01  6.30327532e+01  6.85638400e+01\n",
      "  5.47260492e+01 -1.72906667e+00 -1.70069541e+01  3.46951598e+01\n",
      " -6.02686509e+01 -1.48166689e+01  5.28735913e+00 -4.28724806e+01\n",
      "  2.13512490e+01 -3.59867366e+01  4.44826168e+01  1.73885015e+01\n",
      " -9.26521047e+00  4.38991500e+01 -5.16019684e+00  9.65022378e+00\n",
      " -5.03391138e+00  4.78186024e+01  1.76880428e+01  3.36173084e+01\n",
      "  5.26503702e+01  1.56647564e+01  2.77881687e+01  3.45196043e+00\n",
      "  1.32087409e+01  5.54210732e+01  1.90797683e+01 -9.49898943e+00\n",
      "  6.31248529e+01  2.58615964e+01 -2.12830091e+01 -3.22841935e+01\n",
      " -2.35766010e+00 -5.04690633e+01  1.47653672e+01  3.59060661e+01\n",
      "  2.33306531e+01 -2.89154002e+01 -1.40202048e+01  5.00745174e+00\n",
      " -5.01623268e+01 -3.67134125e+01 -3.34991738e+01  3.27419676e+01\n",
      "  1.41463571e+01  1.13825068e+02 -5.79018140e+01 -5.96677620e+00\n",
      "  1.19812465e+01 -5.94770978e+00 -4.39602309e+00  2.73099072e+01\n",
      "  4.87103619e+01 -3.34806466e+01  3.53684659e+01 -7.51203949e+01\n",
      " -1.24610897e+01 -5.25208137e+00  3.19728388e+01  1.40155828e+01\n",
      " -5.69793369e+01 -8.40723684e+00  1.49005485e+01 -6.65309602e+01\n",
      "  6.48795700e+01 -1.21085918e-01 -4.85237276e+01 -3.96458348e+01\n",
      "  2.95728959e+01 -2.23897974e+01  1.83409352e+00  4.12990978e+01\n",
      " -1.38047464e+01 -6.02346038e+01 -1.74512387e+01 -2.61790179e+01\n",
      " -4.70950358e+01 -1.73574631e+01  1.95925567e+01 -4.10331530e+01\n",
      "  9.39083962e+00  1.41822397e+00  4.59610193e+01  5.78311132e+01\n",
      " -2.29977490e+01  1.20483240e+01  1.81608345e+01 -5.60524519e+01\n",
      " -5.56800815e+01 -2.69283360e+01  1.15374618e+01  3.09199184e+01\n",
      " -9.57445035e+01 -4.72191403e+00  4.03409715e+01 -1.23563560e+01\n",
      "  5.01509221e+01 -2.49733206e+01  3.69330476e+01 -2.37699106e+01\n",
      "  3.99773567e+01 -1.55814769e+01  6.15539049e+00 -5.63963518e+01\n",
      "  3.79604911e+01  1.76657449e+01 -7.97703516e+00 -1.25226710e+01\n",
      "  6.88649373e+01  1.63654694e+01  4.93282705e+01 -2.72087450e+01\n",
      " -2.24921190e+01 -3.29258543e+00 -2.70064743e+01 -7.02735908e+00\n",
      "  2.73189142e+00 -2.78268959e+01  3.63157101e+01  1.21244084e+01\n",
      "  4.83439338e+00 -2.03699640e+01 -7.16627495e+01  2.51100816e+01\n",
      "  6.59064333e+00  5.12383164e+01  4.69659357e+01  4.71008887e+01\n",
      "  3.93305257e+01 -4.07989419e+01 -1.14978364e+01 -4.67769621e+01\n",
      "  2.45062766e+01 -3.91032432e+00  4.39643174e+01 -3.34241721e+01\n",
      "  2.13048017e+01 -3.60357973e+01  4.78769089e+01  4.62150461e+01\n",
      "  8.92185973e+00 -2.08677151e-01 -3.75392458e+01 -2.64871046e+01\n",
      "  5.61043844e+01 -1.64759399e+01 -4.45741316e+01 -2.71196266e+01\n",
      " -3.78325118e+01 -3.33902900e+01  7.34627976e+01  4.71133017e+01\n",
      " -3.81089844e-02  5.97594537e+00  6.16450827e+01 -5.87688477e+01\n",
      "  2.27202993e-01 -3.27829280e+01 -2.27968341e+01 -8.55613432e+00\n",
      "  4.29521194e+01 -3.45272029e+01 -2.29110645e+01 -1.66931784e+01\n",
      "  3.92362344e+01  4.57418340e+01 -1.74385420e+01  4.39126626e+01\n",
      "  1.96592214e+01  3.75429499e+01 -2.36538143e+01  3.31344084e+01\n",
      "  2.21533747e+01 -7.46493465e+00  3.83883484e+01  3.74648603e+01\n",
      "  4.51033064e+01 -5.86604511e+00 -2.96402260e+01 -5.25169499e+01\n",
      "  3.35501673e+01  5.00064618e+01  8.03474330e+00 -2.98436286e+01\n",
      "  2.47750227e+01 -3.51896127e+00  8.87417750e+00 -6.02777211e+01\n",
      " -8.41530740e-01 -2.11304949e+01  3.15256249e+01  5.01919751e+01\n",
      "  1.03860906e+00 -4.05032750e+01 -2.71265507e+00 -7.77977929e+00\n",
      " -6.11196767e+01 -1.66399450e+01 -2.06983662e-01  4.19781008e+01\n",
      "  9.23340053e+00  1.99374595e+01  2.43132679e+01 -1.91717611e+01\n",
      "  8.22058294e-01  4.48825584e+01 -3.26837150e+01  8.30201820e+00\n",
      "  7.77740830e+01 -6.87273195e+01  6.19549798e+00 -5.87821000e+01\n",
      "  4.47555825e+01 -3.66561653e+01  4.93445027e+01 -4.47129843e+01\n",
      "  4.13153352e+01 -1.48125648e+01 -1.42694025e+01  5.69139190e+00\n",
      "  1.69276096e+01  5.49351108e+01 -1.46633817e+01 -6.53980875e+01\n",
      " -1.93054073e+01 -9.04328194e+00 -5.81379932e+00 -8.51199868e+01\n",
      " -1.60382729e+01  1.28018000e+01  1.09042837e+01  3.47689414e+01\n",
      "  1.06789603e+01 -2.18717364e+01  4.88303386e+01  2.41662579e+01\n",
      "  1.50457824e+01 -3.96717325e+01  5.35748469e+01 -5.59936216e+01\n",
      "  1.98730551e+01  5.80628951e+01  3.23025517e+01 -2.17827651e+01\n",
      " -1.85727926e+00  3.66417370e+01 -3.55620897e+01  1.26430974e+01\n",
      " -2.61446476e+01 -4.70214831e+01  3.01213582e+01 -1.21267876e+01\n",
      "  3.66187831e+01  5.08442377e+01  1.87660973e+01 -2.05302602e+01\n",
      " -2.91333143e+01 -2.00334111e+01 -2.04530304e+01 -4.20932717e+01\n",
      "  1.56094765e+01  2.24327631e+01 -2.98690323e+01  3.26734155e+01\n",
      " -2.14832995e+01  1.43952886e+01  2.21197950e+01  1.92530141e+01\n",
      " -1.01120879e+01  5.07601537e+01  4.50480496e+01  2.69872640e+00\n",
      " -4.65188594e+00 -2.75633845e-01 -1.19049814e+01  4.11269955e+01\n",
      "  3.75877761e+01 -4.03917943e+01 -2.33606532e+01  4.32947395e+01\n",
      "  4.27194165e+01 -7.85800064e+01 -6.56804097e+01  3.08793767e+01\n",
      " -4.64198832e+00 -4.89995697e+01  1.18906547e+01 -5.04669502e+01\n",
      " -6.67275950e+01 -1.41267461e+01  4.17540825e+01 -1.35202799e+01\n",
      " -6.50213227e+00  6.33157098e+00 -7.76987095e+01 -2.55277125e+01\n",
      "  5.78502166e+01 -5.80629914e-01  3.22524290e+01 -7.39688317e-01\n",
      "  4.00048622e+01 -5.25438017e+01 -5.22817271e+00 -3.91524231e+01\n",
      " -4.99804220e+01 -2.89888677e+01  7.45391402e+00 -1.38035404e+01\n",
      "  4.91140675e+01  3.28709528e+01 -3.92339454e+01  1.18736330e+01\n",
      " -8.04357184e+00 -3.74245564e+01 -2.71445634e+01 -2.94881155e+01\n",
      "  4.97540988e+01 -8.28720566e+01 -4.40480443e+01 -3.31800184e+01\n",
      " -1.38259125e+01  3.97823036e+01 -4.51571204e+01 -5.94520638e+01\n",
      "  4.53786579e+01 -2.62987500e+01 -2.17494971e+01 -1.48753996e+01\n",
      " -5.08944842e+01 -3.09153808e+01  3.47635669e+01 -5.09257079e+01\n",
      " -5.57520685e+01  1.58691830e+01 -2.32627757e+01  2.13709045e+01\n",
      "  4.60919388e+01  5.04993770e+00  5.52287675e+01 -3.39617351e+01\n",
      " -4.78945299e+01  5.75357312e+01 -1.78759072e+01  4.05468291e+01\n",
      " -1.13887561e+01  1.05713131e+02 -1.89478399e+01  2.25039843e+01\n",
      " -3.47117533e+01  1.21682591e+00 -1.13806888e+01 -9.93799984e+01\n",
      "  4.76626969e+01 -4.80009055e+01 -8.30398468e+01 -1.31208016e+01\n",
      " -2.89596139e+01 -2.05852041e+01 -2.50293614e+01  3.68616106e+01\n",
      " -8.85818430e+00  3.26444215e+01  9.37851170e+00  1.98190542e+01\n",
      "  6.62959283e+00  2.55793893e+01  3.85813729e+01  1.60084510e+01\n",
      " -3.77036226e+01  2.75931598e+01  5.86407232e+00  6.43306629e+00\n",
      "  5.28995396e+01  1.03547827e+01  6.30368132e+01  2.34325918e+01\n",
      "  1.18141749e+01 -1.37307207e+01  6.81647313e+00 -1.11791799e+00\n",
      " -5.60166054e+00  2.61785799e+01 -4.30126279e+01 -8.68911233e+00\n",
      "  4.27664088e+01  5.02088337e+01 -1.09410972e+01  6.27935549e+01\n",
      " -5.57258635e+01 -3.97885084e+01  7.08967793e-01 -5.29190662e+01\n",
      "  2.18812967e+01  8.17140216e+01  3.31600644e+01 -8.50846173e-01\n",
      "  7.88615572e+00 -1.18242990e+01  3.86553487e+01 -2.76852758e+01\n",
      " -3.56603355e+01  1.91338177e+01  6.61421140e+01 -1.00586594e+01\n",
      "  1.99716416e+01  1.13275687e+01  4.98949896e+01  1.81870010e+01\n",
      " -5.81064715e+00  1.14983965e+01  1.83687761e+01 -6.04278866e+01\n",
      " -8.12468162e+00 -5.73453855e+01  8.76107602e+00 -3.72357707e+01\n",
      "  4.86970871e+01 -1.56994857e+01 -1.41136311e+01 -6.08943269e+01\n",
      " -2.11860498e+01  6.26752562e+01 -2.75877589e+01  7.23482454e+01\n",
      " -2.11284917e+01  7.10517979e+01 -3.51535487e+01 -3.10127281e+01\n",
      " -4.02709699e+01 -3.79260277e+01 -1.26446549e+01 -9.20189383e+00\n",
      "  1.44142843e+01  1.65813583e+00  3.54586934e+01 -2.48371230e+01\n",
      " -1.69975788e+01 -4.31067558e+00 -3.40890348e+01 -2.30176157e+00\n",
      " -3.13248363e+01 -2.33571759e+01  4.82981756e+01 -1.40154839e+01\n",
      "  2.68872344e+01  2.92069152e+01  2.21589585e+01 -2.07438261e+01\n",
      "  2.01232080e+01 -4.46130620e+01  4.58263004e+01 -4.83113698e+01]\n"
     ]
    }
   ],
   "source": [
    "dim = 500\n",
    "Minimize_PSO(Shifted_Sphere, targetmin=f_bias[0], nb_particles=250, stable_iter=100, self_confid=0.5, swarm_confid=2,\n",
    "            bounds_min = -100, bounds_max = 100)"
   ]
  },
  {
   "cell_type": "markdown",
   "metadata": {},
   "source": [
    "Conjugate Gradient"
   ]
  },
  {
   "cell_type": "code",
   "execution_count": 16,
   "metadata": {
    "scrolled": true
   },
   "outputs": [
    {
     "name": "stdout",
     "output_type": "stream",
     "text": [
      "Number of dimensions : 500\n",
      "Optimization terminated successfully.\n",
      "         Current function value: -450.000000\n",
      "         Iterations: 3\n",
      "         Function evaluations: 5522\n",
      "         Gradient evaluations: 11\n",
      "Computational time : 0.19 s\n",
      "Fitness at minimum (result): -450.0000 \n",
      "Fitness at minimum (real): -450.0000 \n"
     ]
    },
    {
     "data": {
      "image/png": "[encoded data removed]",
      "text/plain": [
       "<Figure size 432x288 with 1 Axes>"
      ]
     },
     "metadata": {
      "needs_background": "light"
     },
     "output_type": "display_data"
    },
    {
     "name": "stdout",
     "output_type": "stream",
     "text": [
      "x_minimum :\n",
      "[ 9.72499372e+01  7.70609849e+01 -1.90311496e+01  2.54286983e+01\n",
      " -2.29088023e+01  6.95721752e+01  5.36971407e+00  6.14807319e+01\n",
      " -2.13006984e+01  9.23468135e+01 -9.39758814e+01  9.07459868e+01\n",
      "  4.28769798e+01  2.93096460e+01 -1.06695491e+01 -6.50746182e+01\n",
      "  6.70494170e+01  9.40187701e+01 -7.30050205e+01 -4.98021989e+01\n",
      "  8.20014246e+01  3.52931835e+01  2.46321503e+01  2.44313812e+00\n",
      " -9.93034517e+01 -5.46223384e+01  9.56914578e+01  7.22504811e+01\n",
      " -9.71229554e+01 -2.84462719e+00 -1.67194070e+01  5.45804835e+01\n",
      " -2.37049420e+00  4.51291457e+00  5.64098847e+01  1.82458698e+01\n",
      " -7.47214454e+01 -7.80561465e+01  3.25810772e+01  9.94186239e+01\n",
      " -3.07638114e+01 -6.47890961e+01 -8.64222070e+01 -3.81208220e+01\n",
      " -3.30480412e+01 -2.47664860e+01  9.04413674e+01  4.38641030e+01\n",
      "  5.58684878e+01  2.35317323e+01  2.98476668e+01  5.12566606e+01\n",
      " -7.04331607e+01  1.98907349e+01  7.97217384e+01 -6.56134279e+01\n",
      "  6.37856224e+01 -8.61412485e+01  9.11374528e+01 -3.65324324e+01\n",
      " -9.89597645e+01  5.19871015e+01 -3.82640361e+01  4.30511344e+01\n",
      " -8.38104963e+01  6.91755855e+01  4.36752411e+01  7.40785994e+01\n",
      "  7.44319379e+01  5.23126448e+01  3.38912927e+01  8.04056540e+01\n",
      "  6.42924652e+01  6.65314538e+01  2.79835869e+01 -6.87591345e+01\n",
      "  5.66335897e+01  4.62810795e+01  1.29463936e+01  4.46698532e+01\n",
      " -5.20523806e+01 -2.02829338e+00 -1.52794644e+01  5.91355113e+01\n",
      "  5.26819972e+01 -5.22222384e+01  2.70218660e+01 -5.36909564e+01\n",
      "  2.31876365e+01 -4.62990892e+01  9.82426298e+01  5.20637754e+01\n",
      " -3.56652552e+00  8.90400682e+01 -2.78523455e+01 -8.31217927e+01\n",
      "  8.97027070e+01  3.81654988e+01  2.31017165e+01  7.89956113e+01\n",
      " -9.74923582e+01 -3.98175916e+01  9.30161514e+01 -7.95818936e+01\n",
      "  1.92043451e+01 -6.20446510e+00  4.34651278e+01  7.17741881e+01\n",
      " -6.28803184e+01 -7.52500590e+00  8.06599523e+01 -9.55790970e+01\n",
      "  5.20812299e+01  5.91704001e+01 -3.72298185e+01 -5.28349593e+01\n",
      " -1.10964287e+00  3.70508920e+01  8.89267388e+01 -1.21376164e+01\n",
      " -5.13129913e-01 -8.02764151e+01  1.08875029e+01 -1.28611365e+01\n",
      " -6.37470851e+01 -6.92376374e+01  8.67458754e+01 -7.27468777e+01\n",
      "  9.97090005e+01  3.81241254e+01  9.22084914e+01  5.51003023e+01\n",
      " -9.98551723e+01 -3.49057176e+01  8.82072565e+00 -3.86987369e+01\n",
      "  3.45407790e+01 -3.08573353e+01  9.61198839e+01 -2.92063383e+01\n",
      " -9.60969050e+01  6.25504112e+01  9.65628871e+01 -3.76328389e+01\n",
      " -2.42183130e+01  4.96058888e+01 -1.14339842e+01 -8.00216990e+01\n",
      "  9.85244899e+01  7.25239219e+00 -7.30904065e+01 -7.37399993e+01\n",
      "  7.27987370e+01  4.16544964e+01  9.96481389e+01  6.31513831e+01\n",
      "  5.64479737e+01  5.27231501e+01  8.09950491e+01 -7.93756258e+01\n",
      " -5.76579242e+01  7.02177246e+01  4.85930315e+01 -1.89857997e+01\n",
      " -3.89916381e+01 -5.16100591e+00 -7.10524669e+01 -1.13197012e+00\n",
      "  6.02484714e+00  2.04848578e+00 -5.45061690e+01  8.69987839e+01\n",
      "  3.53841619e+00 -8.14781927e+00  5.53475985e+01  4.67606498e+01\n",
      "  2.04763840e+01 -8.86141935e+01 -8.55993596e+01  2.71363263e+01\n",
      "  7.52667640e+01 -1.45041118e+01  4.16806838e+01 -8.59619760e+01\n",
      " -9.61869668e+01  1.66197148e+00  7.38811982e+01  5.97098027e+01\n",
      "  5.98468111e+01 -6.07773401e+01  4.28748756e+01 -5.69983148e+01\n",
      "  5.73014847e+01 -6.55704942e+01 -5.87705530e+01 -7.10516251e+00\n",
      " -8.50946983e+01  1.93161023e+01 -6.18019062e+01  8.69634735e+01\n",
      " -3.84974982e+01 -7.62157695e+00  6.59506558e+01 -3.99724990e+01\n",
      "  4.19239701e+01 -8.50797855e+01  5.00431632e+01 -6.21891913e+00\n",
      "  8.89827936e+01 -9.72052206e+01 -8.91602311e+01  4.76897735e+01\n",
      "  2.71130163e+01  8.61944393e+01 -7.80787937e+00  2.57798898e+00\n",
      " -1.51037781e+01 -1.68166117e+01 -2.23531429e+01  7.11074415e+01\n",
      "  6.46037834e+01  8.27820698e+01  6.72083888e+01  7.36175176e+01\n",
      "  5.51174505e+01 -1.36144149e+01 -1.27804031e+01 -5.51390552e+01\n",
      " -9.73631307e+01 -2.48067495e+01  6.77124630e+01 -4.27513323e+01\n",
      " -4.31741751e+01 -3.45839303e+01 -4.75814767e+00 -5.48033314e+01\n",
      "  9.24012390e+01 -3.87083559e+01  5.57851166e+01  7.90684893e+01\n",
      " -4.92553366e+01 -7.08493321e+01 -3.17007448e+01  4.66269369e+01\n",
      " -9.32272167e+01  8.84775243e+00  1.16890801e+01  3.39367436e+01\n",
      "  1.67853855e+01  3.71818182e+01  5.31967748e+01  7.95324232e+01\n",
      "  9.33579337e+01  8.11587053e+01 -6.42841223e+01  9.56976056e+01\n",
      "  7.95971480e+01 -9.41277185e+01 -4.35955278e+01 -6.24197690e+01\n",
      "  2.17507012e+01 -5.81291237e+01  9.95469325e+01 -9.66476355e+01\n",
      " -1.20743676e+01 -7.03209624e+01  2.42891877e+01  5.08737568e+01\n",
      " -4.38806094e+01  5.43593660e+00 -3.75118830e+01 -6.36518265e+01\n",
      "  5.58505883e+01  6.19018133e+01  4.46625891e+01 -9.09381019e+01\n",
      "  2.26599508e+01 -3.29570216e+01  1.67725185e+01  8.26355631e+01\n",
      "  2.54500120e-01 -1.64980918e+01  5.98915014e+01  7.81218317e+01\n",
      "  2.67066741e+00 -2.20547076e+01  8.61277402e+01 -4.34535697e+01\n",
      "  5.39874281e+01  4.55166427e+01  8.29216002e+01 -7.87759175e+01\n",
      "  7.77875230e+01  1.90080890e+01 -9.75840087e+01 -5.23371244e+01\n",
      " -7.52752286e+01  7.61568633e+01  6.26464565e+01  5.26676623e+01\n",
      "  6.20774148e+01  3.64507727e+01  2.49604141e+01 -2.63842913e+01\n",
      " -5.94439571e+01 -4.49897569e+01 -3.69122543e+00 -1.99617497e+01\n",
      "  4.04591664e+01 -3.57278100e+01 -9.03093667e+01  5.54972371e+01\n",
      "  1.06805750e+01 -8.64501304e+01 -7.64700235e-01  6.72210355e+01\n",
      " -7.81317928e+00  5.60050798e+01 -1.65122628e+00  3.91427932e+01\n",
      "  9.70123802e+01 -2.93655490e+01  2.43983349e+01  3.17875082e+00\n",
      "  6.30064540e+01 -2.18720081e+00  4.62919135e+01  4.21148989e+01\n",
      "  6.68823263e+01 -9.78151646e+01 -9.03245926e+01  2.53469253e-01\n",
      " -4.16621365e+01 -9.72414671e+01  5.88355700e+01 -8.65434659e+01\n",
      " -3.79644296e+01 -3.19989162e+01  6.33555837e+01 -9.91254318e+01\n",
      " -1.23679470e+00  2.26896089e+01 -2.51837590e+01 -6.03383589e+01\n",
      "  7.90135294e+01  9.73697166e+01  8.43560192e+01 -2.11165321e+01\n",
      "  3.24574957e+01  8.02198216e+00 -5.77841032e+01 -3.89340169e+01\n",
      " -9.73195218e+01 -9.90876121e+01  9.75573830e+01  6.23593873e+01\n",
      "  5.40811375e+01  8.06570503e+01 -7.52451776e+01 -8.07840898e+01\n",
      "  1.02935127e+01 -9.86964826e+01 -7.48613400e+01 -8.88440141e+01\n",
      "  5.25347408e+01 -8.57196878e+01  4.36466710e+01 -7.19184001e+01\n",
      "  2.31396707e+01 -5.69816180e+00  2.07051452e+00 -3.09913852e+01\n",
      " -8.30484083e+01 -4.88397313e+01  5.11438078e+00 -7.18930472e+01\n",
      " -7.59058150e+01  5.47775862e-01 -4.28173584e+01 -7.76065606e+01\n",
      "  9.25233591e-03 -2.44198038e+01 -4.58882368e+01  9.13382049e+01\n",
      " -8.38641213e+00 -5.09958831e+01  6.60914139e+01 -3.93652542e+01\n",
      " -9.33561168e+01  9.75118641e+01 -4.04474949e+00  2.07071616e+01\n",
      "  3.24976043e+00  9.54521932e+01 -5.05603380e+01  3.36389164e+01\n",
      " -7.06536766e+01 -1.89755348e+01 -7.15894265e+01 -3.11507977e+01\n",
      "  9.98641355e+00 -9.15136595e+01 -5.36080252e+01 -2.02418615e+01\n",
      " -7.58617984e+01 -1.14739860e+01 -8.97095359e+01  9.93293236e+01\n",
      "  3.88752681e+01  2.30043339e+01  2.34309219e+01  6.59478378e+01\n",
      "  9.58571130e+01 -1.25130516e+01  6.92420671e+01 -2.05832724e+01\n",
      " -1.59256404e+01  7.83976209e+01 -3.08676593e+01  6.16825907e+01\n",
      "  9.88552545e+01  5.62127504e+01  7.03617511e+01  3.21222072e+01\n",
      " -4.55774501e+01 -5.18313538e+01 -1.48152801e+01  1.95116252e+01\n",
      " -1.59917609e+01  5.35048309e+01 -9.48616560e+01  3.85586062e+01\n",
      "  5.06876466e+01  9.07115843e+01 -2.25355843e+01 -8.87687336e+01\n",
      " -2.49319608e+01  3.15026353e+01  4.03533038e+01 -8.18526355e+01\n",
      "  8.95974175e+01  6.96976839e+00  8.20480765e+01 -3.81378249e+01\n",
      "  4.49790032e+01 -2.33082131e+01  7.97746133e+01 -8.63123872e+01\n",
      " -4.70000655e+01  2.49122450e+01  3.60558265e+01  4.73801686e+01\n",
      "  8.65961097e+01  2.29342255e+01  4.76610205e+01  2.73051790e+01\n",
      " -6.59733551e+01 -4.55328831e+01  6.24895604e+01 -1.93478063e+01\n",
      "  3.20165368e+01 -4.27882025e+01  9.22766821e+01  1.53111977e+01\n",
      "  9.33257661e+01  2.78418872e+00  7.28446637e+01 -5.49344974e+01\n",
      " -5.13089930e+01  7.97652869e+01  4.18395161e+01  9.50286828e+01\n",
      " -8.08714868e+00  4.83549128e+01  3.37934487e+01 -9.40775099e+01\n",
      " -2.99287778e+01 -8.35867749e+01 -8.78325049e+01  5.20189887e+01\n",
      "  2.55661793e+01  6.09339296e+00  9.78523783e+01 -3.94075813e+01\n",
      " -6.38597501e+01  1.38500201e+01 -6.68558276e+00 -2.15541725e+01\n",
      " -9.45186335e+01 -3.17040935e+01  9.52698215e+01  1.53870013e+01\n",
      "  5.41280253e+01  2.52822928e+01  4.66099916e+01 -7.01317297e+01\n",
      " -1.70717810e+01 -8.62030519e+01  7.68388133e+01  6.63988579e+01]\n"
     ]
    }
   ],
   "source": [
    "dim = 500\n",
    "Minimize_CG(Shifted_Sphere, targetmin=f_bias[0], tol=1e-05, bounds_min = -100, bounds_max = 100)"
   ]
  },
  {
   "cell_type": "markdown",
   "metadata": {},
   "source": [
    "The PSO algorithm converges towards the global minimum but the Conjugate Gradient algorithm is more accurate and suitable for both D=50 and D=500."
   ]
  }
 ],
 "metadata": {
  "celltoolbar": "Raw Cell Format",
  "kernelspec": {
   "display_name": "Python 3",
   "language": "python",
   "name": "python3"
  },
  "language_info": {
   "codemirror_mode": {
    "name": "ipython",
    "version": 3
   },
   "file_extension": ".py",
   "mimetype": "text/x-python",
   "name": "python",
   "nbconvert_exporter": "python",
   "pygments_lexer": "ipython3",
   "version": "3.8.2"
  }
 },
 "nbformat": 4,
 "nbformat_minor": 4
}
