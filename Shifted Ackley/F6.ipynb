{
 "cells": [
  {
   "cell_type": "markdown",
   "metadata": {},
   "source": [
    "**Shifted Ackley Function**"
   ]
  },
  {
   "cell_type": "markdown",
   "metadata": {},
   "source": [
    "Environment : Python 3.8.2 & Jupyter Notebook<br>"
   ]
  },
  {
   "cell_type": "markdown",
   "metadata": {},
   "source": [
    "The objective is to solve unconstrained problem : F6 as described in the “CEC2008_TechnicalReport.pdf” for both dimensions D = 50 and D = 500. <br>\n",
    "F6: Shifted Ackley <br>\n",
    "\n",
    "The coordinates of the shifted global minimum of this function in dim = 1000 are provided in a numpy array in a data file \"data.py\". These are the target coordinates to be achieved.<br>\n",
    "F6: ackleydat -> shape = (1000,) <br>\n",
    "\n",
    "The fitness or value of this function at its minimum is also available in numpy array \"f_bias\" in \"data.py\". This is the the target fitness value to achieve.<br>\n",
    "f_bias[5] = F6_min = -140\n",
    "<img src=\"Functions.png\">"
   ]
  },
  {
   "cell_type": "markdown",
   "metadata": {},
   "source": [
    "Import Libraries"
   ]
  },
  {
   "cell_type": "code",
   "execution_count": 1,
   "metadata": {},
   "outputs": [],
   "source": [
    "import random\n",
    "import numpy as np\n",
    "import matplotlib.pyplot as plt\n",
    "import pandas as pd\n",
    "import time\n",
    "from pygmo import *"
   ]
  },
  {
   "cell_type": "markdown",
   "metadata": {},
   "source": [
    "**Import Data**"
   ]
  },
  {
   "cell_type": "code",
   "execution_count": 2,
   "metadata": {
    "scrolled": true
   },
   "outputs": [
    {
     "name": "stdout",
     "output_type": "stream",
     "text": [
      "(1000,)\n",
      "-140.0\n"
     ]
    }
   ],
   "source": [
    "# Import data in data.py file and print shape of input arrays\n",
    "from data import *\n",
    "print(ackleydat.shape)\n",
    "print(f_bias[5])"
   ]
  },
  {
   "cell_type": "markdown",
   "metadata": {},
   "source": [
    "- Algorithm : Genetic Algorithm - The shifted Ackley function is multimodal and as such requires a heuristic-based algorithm that takes advantage of natural selection to avoid local minima.\n",
    "- Libraries : PyGMO\n",
    "- Parameters of the algorithm : Number of individuals, number of generations \n",
    "- Stopping criterion : number of generations = specified number\n",
    "- Number of function evaluations : see below\n",
    "- Computational time : see below\n",
    "- Convergence curve : see below\n",
    "- Final results (solution and fitness) : see below"
   ]
  },
  {
   "cell_type": "code",
   "execution_count": 5,
   "metadata": {},
   "outputs": [],
   "source": [
    "# Define objective function to minimize\n",
    "def Shifted_Ackley(x):\n",
    "    z = np.subtract(x[:dim], ackleydat[:dim])\n",
    "    s1 = np.sum(np.power(z, 2))\n",
    "    s2 = np.sum(np.cos(2*np.pi*z))\n",
    "    return f_bias[5] - 20*np.exp(-0.2*np.sqrt(s1/dim)) - np.exp(s2/dim) + 20 + np.exp(1)\n",
    "\n",
    "\n",
    "# Define user-defined problem (udp) classes that implement methods describing the optimization problems.\n",
    "# Classes to be used to construct an instance of pygmo.problem class\n",
    "\n",
    "# fitness() method returns the fitness of the input\n",
    "# get_bounds() returns the box bounds of the problem or search space\n",
    "\n",
    "class shifted_ackley:\n",
    "    def fitness(self, x):\n",
    "        return [Shifted_Ackley(x)]\n",
    "    def get_bounds(self):\n",
    "        return ([-32]*dim, [32]*dim)\n",
    "\n",
    "\n",
    "def Minimize_GA(input_prob=None, popsize=None, generations=None, targetmin=None):\n",
    "    \n",
    "    print(\"Number of dimensions : {}\".format(dim))\n",
    "        \n",
    "    since = time.time()\n",
    "    \n",
    "    # Instanciate simple genetic algorithm class of pygmo library\n",
    "    simple_gen_algo = sga(gen = generations, cr = .90, eta_c = 1., m = 0.02,\\\n",
    "                          param_m = 1., param_s = 2, crossover = \"exponential\",\\\n",
    "                          mutation = \"polynomial\", selection = \"tournament\", seed = 100)\n",
    "    \n",
    "    # Intanciate optimization algorithm class\n",
    "    algo = algorithm(simple_gen_algo)\n",
    "    \n",
    "    # Set algorithm verbosity - 1 for logging outputs at each generation\n",
    "    algo.set_verbosity(1)\n",
    "    \n",
    "    # Construct an instance of pygmo.problem class by overriding specific methods with those implemented in\n",
    "    # input user-defined problem class\n",
    "    prob = problem(input_prob())\n",
    "    \n",
    "    # Generate a population of potential candidate solutions of size=popsize to solve prob\n",
    "    pop = population(prob, size=popsize, seed=100)\n",
    "    \n",
    "    # Core of the optimization - selection + crossover + mutation + insertion over specified number of generations\n",
    "    pop = algo.evolve(pop)\n",
    "    \n",
    "    till = time.time()\n",
    "    \n",
    "    # Extract a reference to the internal user-defined algorithm\n",
    "    uda = algo.extract(sga)\n",
    "    \n",
    "    # Log extraction\n",
    "    log = uda.get_log()\n",
    "\n",
    "    Gen, Fevals, Best_fitness, Improvement = [], [], [], []\n",
    "    \n",
    "    # Fetch cumulative number of function evaluatiions and best fitness at each generation\n",
    "    for x in log:\n",
    "        Gen.append(x[0])\n",
    "        Fevals.append(x[1])\n",
    "        Best_fitness.append(x[2])\n",
    "        #Improvement.append(x[3])\n",
    "    \n",
    "    # Show results\n",
    "    plt.plot(Gen, Best_fitness, label=\"Convergence curve\")\n",
    "    plt.axhline(y=targetmin, color=\"r\", label=\"Actual Minimum = \"+str(targetmin))\n",
    "    plt.legend()\n",
    "    plt.xlabel(\"Generation\")\n",
    "    plt.ylabel(\"Fitness\")\n",
    "    plt.show()\n",
    "\n",
    "    print(\"Computational time : {:.2f} s\".format(till-since))\n",
    "    print(\"Fitness at minimum (result): {:.4f} \".format(pop.champion_f[0]))\n",
    "    print(\"Fitness at minimum (real): {:.4f} \".format(targetmin))\n",
    "    print(\"Function evaluations : {}\".format(Fevals[-1]))\n",
    "    print(\"x_minimum :\\n{}\".format(pop.champion_x))"
   ]
  },
  {
   "cell_type": "markdown",
   "metadata": {},
   "source": [
    "D = 50"
   ]
  },
  {
   "cell_type": "code",
   "execution_count": 6,
   "metadata": {},
   "outputs": [
    {
     "name": "stdout",
     "output_type": "stream",
     "text": [
      "Number of dimensions : 50\n"
     ]
    },
    {
     "data": {
      "image/png": "[encoded data removed]",
      "text/plain": [
       "<Figure size 432x288 with 1 Axes>"
      ]
     },
     "metadata": {
      "needs_background": "light"
     },
     "output_type": "display_data"
    },
    {
     "name": "stdout",
     "output_type": "stream",
     "text": [
      "Computational time : 8.76 s\n",
      "Fitness at minimum (result): -139.8533 \n",
      "Fitness at minimum (real): -140.0000 \n",
      "Function evaluations : 250000\n",
      "x_minimum :\n",
      "[ 27.02794888 -16.16198457   6.41174695  -0.78847427  23.52671315\n",
      "  15.76616954  -2.64105125 -28.90073055  19.26552731  -3.29774311\n",
      "   6.9215267   17.50994476  25.34393015  14.29000593 -19.36069695\n",
      "  -5.6923969   26.10515623  25.01604946  -5.38984248  23.61207008\n",
      " -26.51744729  -8.80645244  18.80002515 -29.41385832 -21.65420325\n",
      " -17.87335854 -18.07005096   6.28804749 -13.68166247 -18.10084858\n",
      " -29.08021295  14.79581139  -3.33161356  25.91057279  -2.05525775\n",
      "  -4.87430255  20.79034263   1.51960458 -17.81749646  10.3405447\n",
      "  20.31011303 -28.85629833  10.9180438   -7.22715769  19.95740172\n",
      "   0.19954593  12.59856888  -4.23940316 -11.69040249 -18.61959401]\n"
     ]
    }
   ],
   "source": [
    "dim = 50\n",
    "Minimize_GA(input_prob=shifted_ackley, popsize=500, generations=500, targetmin=f_bias[5])"
   ]
  },
  {
   "cell_type": "markdown",
   "metadata": {},
   "source": [
    "D = 500"
   ]
  },
  {
   "cell_type": "code",
   "execution_count": 7,
   "metadata": {
    "scrolled": false
   },
   "outputs": [
    {
     "name": "stdout",
     "output_type": "stream",
     "text": [
      "Number of dimensions : 500\n"
     ]
    },
    {
     "data": {
      "image/png": "[encoded data removed]",
      "text/plain": [
       "<Figure size 432x288 with 1 Axes>"
      ]
     },
     "metadata": {
      "needs_background": "light"
     },
     "output_type": "display_data"
    },
    {
     "name": "stdout",
     "output_type": "stream",
     "text": [
      "Computational time : 144.79 s\n",
      "Fitness at minimum (result): -125.7751 \n",
      "Fitness at minimum (real): -140.0000 \n",
      "Function evaluations : 1984000\n",
      "x_minimum :\n",
      "[ 27.73508561 -17.18754051   6.66367169  -0.34738867  24.73958147\n",
      "  16.52090467  -1.0100083  -24.59358586  20.67707125   8.07315745\n",
      "   5.16198768  20.89414518  22.25273481  18.44814916 -19.50837392\n",
      "  -3.02620535  24.19905275  27.26271219  -6.53020751  27.31300919\n",
      " -26.83669172 -10.62102563  18.05354432 -21.11181092 -22.32129637\n",
      " -19.02675866 -18.71269189   6.2873986  -19.57928083 -18.45464379\n",
      " -21.57937014  13.18759917  -0.82521075  24.1324945    6.79420171\n",
      "  -6.70995948  25.64780649   6.6621677  -13.74871773  14.51965796\n",
      "  16.12761205 -29.64759052  26.00056537 -19.24895094  12.99178168\n",
      " -12.86336445   7.57913509  -6.07159103 -10.19263797 -15.28988887\n",
      " -19.395613     3.82977589 -17.54070627   4.63851026 -17.76855656\n",
      "   7.42721103  -5.5909629   25.78151329  26.55477      7.33994393\n",
      "   0.28189787  21.3031637   20.43748668   3.67220713  10.63248305\n",
      "  12.67019486 -14.76961383  -6.93161831 -14.6432189   -1.93400685\n",
      "   8.79541579 -21.06937225  19.50834609   3.9111418   -1.98019191\n",
      "  13.15408403  -0.2998346  -12.41287721   7.59118388   5.03994971\n",
      "  20.8358053   29.86862303   0.98542933  20.19077141 -20.87859558\n",
      "  31.63501717  -1.96347098 -13.11001023  30.50325186  17.19807265\n",
      " -22.70923385 -29.38197638  22.658052   -23.29050203 -17.58785624\n",
      "  10.53826607 -14.84567925   0.41758793 -15.60318966  22.25665356\n",
      "  -1.56827917  -4.86896282  -1.71514315 -21.91312472 -12.32203474\n",
      " -15.38712058   2.87199124  21.67533665   1.58901038  19.81163386\n",
      " -10.58930496 -10.81339758  22.16634757  13.11120814   5.44102907\n",
      "   1.38127733  17.6779777  -28.41150698  15.19254364 -27.96594707\n",
      "  -4.90383589  -7.96038087  29.26480771 -25.06604978  24.17668873\n",
      "  30.36750168  30.49553048  21.55065119 -10.76863391  -1.81922456\n",
      " -12.96309531  -0.11159234 -21.49835862  29.77117317  15.83856553\n",
      "  -3.60147293  20.7592796  -19.55709051   0.28928411  24.1025701\n",
      "  15.24029648 -18.12611955  18.59032478  -0.97658685 -14.08978545\n",
      " -26.91298109  17.84329893   6.57019916 -10.39625522  -2.44410636\n",
      "  -1.43786973 -28.34583061 -27.38664279  -9.83592054 -26.44978752\n",
      "  -4.75958142   5.95902932 -27.56039549 -25.69815924   9.23278445\n",
      "   3.68490738 -29.10068308 -27.43657402 -23.62297073   6.11896157\n",
      " -27.72328941  -6.86730473   4.70712377  16.56257242   8.19566916\n",
      " -24.17854736  -8.67510805  -4.44863853  -2.10584231 -21.87426123\n",
      "  -1.41459438  13.2319047   20.97186222  -4.33598853   6.49082297\n",
      " -18.83626604  -9.31401159  12.62027065  23.45946621  -7.76156167\n",
      " -21.85092403  22.20503171  -7.03673938  16.42497761  25.48411967\n",
      " -24.68314387 -19.46549061 -28.10289785 -29.53156904  14.73108668\n",
      "  -2.37806286  27.02362182 -17.76107143 -18.89669279  26.50007036\n",
      "  -9.75286805  -7.73940059 -14.08599119  -4.05712408   9.60811568\n",
      "   4.10992501 -26.08902023 -17.47510687  -2.14441914  26.2248002\n",
      "  19.8345719  -17.45519355 -24.18075448  20.696033   -18.62205023\n",
      "   7.72441204  31.00160189   1.44756424  21.01821713 -31.69315084\n",
      " -21.11630019  25.05276527 -14.28286197  15.41485729  11.86637137\n",
      "  16.63706244 -10.20287152 -23.93466161 -18.93136578 -15.24929847\n",
      "  -7.65841505  17.69530949   1.09022985   8.45102547   4.31854049\n",
      "   0.39721953  -4.57790365 -14.02418668  26.9827217  -20.41148154\n",
      " -20.43363007 -31.78665905  12.25272813   8.57177184  29.86429535\n",
      "  12.08144499  -8.90092847 -15.72847461   7.45763306  16.17547688\n",
      "  -7.62007002 -31.07294428  -7.93195677  21.25826623  13.64801513\n",
      "  22.47474393  20.07703758  -7.00900504   8.41995193  12.18928309\n",
      " -25.69882696  27.0110884   11.70367171   7.06668001 -18.47295274\n",
      "   0.98637532  23.51665441 -13.02562297   4.61137429  -5.0750973\n",
      "   4.96266551  14.07349541 -12.82847402  -7.31106645   8.44564498\n",
      "  25.20074183  -9.28773518  -5.29905363   2.62460924   1.32542603\n",
      "  12.72436796   3.15648739  17.96507179   7.53438186 -19.95180926\n",
      "   2.99901057  29.71555598  10.63693104  12.55930802 -12.77529739\n",
      " -23.9635451    9.97219617  -2.55445167 -18.69484014   9.14512787\n",
      "  21.74463008   1.49435372  20.43647061  18.74720281 -25.05953293\n",
      "  -5.40559852  10.21841889 -16.24123525   2.79763736 -20.20058308\n",
      "   1.79079216   9.20098591  20.84442033  18.49857551  19.55799031\n",
      "  -8.50077042  10.35902858  12.15937045 -22.40433967  17.82661659\n",
      "  27.45147126   0.54709304  -5.44777134  28.86755997   9.30689086\n",
      "  16.12532074  -8.99890226  18.87171623 -21.13952832  -0.41141051\n",
      " -17.64738097  20.42667683 -12.94235374  14.83285933 -24.97013928\n",
      " -18.53406373  -6.15396255  -2.09439385   3.56387289  -6.96292365\n",
      " -19.11369705  25.65143376  18.22636393  20.21001576  18.92559185\n",
      "   3.78561161 -14.17205986 -10.55000858  15.40140923   7.99029825\n",
      " -31.66592058 -30.16834748  -3.73490283  -9.00286508   0.29401694\n",
      "  28.17837851   4.42773217 -15.07436214 -10.15454357   9.56176864\n",
      " -16.54134835  19.24191122  23.89331189   1.7793237  -29.02243534\n",
      "  20.57769809  11.49590752  17.11309868 -20.83092514 -10.3118553\n",
      " -12.27673913 -24.42687256  24.0184506   18.97026822  -8.17581268\n",
      "  19.08377747 -29.97509402  22.277341    18.04576741 -14.1680161\n",
      "   2.48234271  30.00600027   8.08654134 -14.16527059  -7.30280609\n",
      " -22.21668464  -5.93374355  -3.09771092  -6.29631926  12.4443133\n",
      " -30.87274407 -22.85956395   5.75149197  -7.56829061  12.20125524\n",
      " -19.20168638   9.49384071  -2.61861671  -6.22255065  10.8309158\n",
      "  28.8015881   -0.04808604  -7.80510996 -17.12714227  -9.97612232\n",
      " -15.51521694  -7.37873281  -0.74493556  12.47976408 -15.73992847\n",
      " -28.13422163   1.97353404  -7.09258135 -29.41264148  -0.94535413\n",
      "  10.13879716 -12.40126718 -25.33577726  14.27797436  13.89596176\n",
      "  28.10725715   9.41243855  27.21656541   5.48015594  23.31768411\n",
      "   4.88298575 -23.33516619  -9.62561174   1.77813204   8.0455587\n",
      "   1.42789901  -3.65178426 -11.53412609 -21.65162431 -11.67225964\n",
      " -12.16950297  -7.7640189   25.03479282  23.78942621  25.1523549\n",
      "   0.46914191 -31.67033378   5.75399917  21.70521093  31.0773959\n",
      " -17.6189626   13.92888453   8.59873954  23.43501117  13.00113192\n",
      " -23.42900959   2.2004951  -24.70213568  29.53639237 -14.26793365\n",
      " -23.86219096  11.57484342  22.66937998 -11.35202855 -17.37229326\n",
      "  21.8244901  -22.59471355  28.40711497  14.71512412  18.55553271\n",
      " -18.37176634   3.10584559 -17.4339989   15.18729609  -1.47377222\n",
      " -17.93014706  -9.68236849  17.49100411 -15.81260541 -27.68514435\n",
      " -15.88653484 -24.35612333   8.2456587  -22.68541579   6.56259584\n",
      " -18.66340525  17.51436352 -11.61933349  23.25393607 -28.56003461\n",
      "  14.00991986  22.96708921 -13.52980472  26.2353469  -29.33433389\n",
      " -19.33989875 -15.41428853  24.01916278 -23.08540755 -10.61550282\n",
      "  31.43801567 -15.34299494  -2.11782758 -19.97062921   7.21655337\n",
      "  31.34077106  21.82241528  11.28248051 -17.04922877 -30.26986463]\n"
     ]
    }
   ],
   "source": [
    "dim = 500\n",
    "Minimize_GA(input_prob=shifted_ackley, popsize=2000, generations=1000, targetmin=f_bias[5])"
   ]
  },
  {
   "cell_type": "markdown",
   "metadata": {},
   "source": [
    "The Genetic Algorithm gives sastisfactory results in 50 dimensions while not exceeding 5000D function evaluations. As expected however, convergence in higher dimensions is more computationally costly. Further parameter tuning may be required to achieve better results without increasing the function evaluations."
   ]
  }
 ],
 "metadata": {
  "celltoolbar": "Raw Cell Format",
  "kernelspec": {
   "display_name": "Python 3",
   "language": "python",
   "name": "python3"
  },
  "language_info": {
   "codemirror_mode": {
    "name": "ipython",
    "version": 3
   },
   "file_extension": ".py",
   "mimetype": "text/x-python",
   "name": "python",
   "nbconvert_exporter": "python",
   "pygments_lexer": "ipython3",
   "version": "3.8.2"
  }
 },
 "nbformat": 4,
 "nbformat_minor": 4
}
