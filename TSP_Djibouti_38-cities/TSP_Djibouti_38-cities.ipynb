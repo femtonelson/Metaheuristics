{
 "cells": [
  {
   "cell_type": "markdown",
   "metadata": {},
   "source": [
    "Travelling Salesman Problem - Djibouti - 38 cities with GA"
   ]
  },
  {
   "cell_type": "markdown",
   "metadata": {},
   "source": [
    "Environment : Python 3.8.2 & Jupyter Notebook<br>\n",
    "For Python Global MultiObjevtive Optimization library installation, follow guidelines : https://esa.github.io/pygmo2/install.html"
   ]
  },
  {
   "cell_type": "markdown",
   "metadata": {},
   "source": [
    "Import Libraries"
   ]
  },
  {
   "cell_type": "code",
   "execution_count": 1,
   "metadata": {},
   "outputs": [],
   "source": [
    "import random\n",
    "import numpy as np\n",
    "import matplotlib.pyplot as plt\n",
    "import pandas as pd\n",
    "import time\n",
    "from pygmo import *"
   ]
  },
  {
   "cell_type": "markdown",
   "metadata": {},
   "source": [
    "The objective is to solve a Travelling Salesman Problem (TSP) by finding the shortest path to visit all cities in a country without visiting the same twice. \n",
    "**Problem : 38 cities (Djibouti). The optimal tour has length 6656.**<br>\n",
    "Input data (in TSPLIB format) obtained from the link: http://www.math.uwaterloo.ca/tsp/world/countries.html\n",
    "\n",
    "- Algorithm : Genetic Algorithm - Chromosomes provide a suitable representation of city sequences and this algorithm is robust enough to guarantee convergence towards the optimal solution in this discrete problem. However it is computationally intensive and requires a proper choice of selection, mutation and crossover strategies. \n",
    "- Library : PyGMO\n",
    "- Parameters of the algorithm : Number of individuals, number of generations, mutation/crossover/selection strategy  \n",
    "- Parameter tuning : Stepwise comparison of selection/crossover/mutation strategies provided in pygmo package reveals the following best parameters<br>\n",
    "  selection = \"truncated\" - selection of best chromosomes over entire population<br>\n",
    "  crossover = \"single\" - selecting a random point in the parent chromosome and inserting the partner chromosome thereafter with crossover probability\n",
    "  mutation = \"uniform\" - Random sampling from the chromosome bounds<br>\n",
    "  mutation probability = 0.05\n",
    "- Stopping criterion : Number of generations = specified value\n",
    "- Number of function evaluations : see below\n",
    "- Computational time : see below\n",
    "- Convergence curve : see below\n",
    "- Final results (solution and fitness) : see below"
   ]
  },
  {
   "cell_type": "markdown",
   "metadata": {},
   "source": [
    "**Import Data**"
   ]
  },
  {
   "cell_type": "code",
   "execution_count": 2,
   "metadata": {},
   "outputs": [
    {
     "name": "stdout",
     "output_type": "stream",
     "text": [
      "There are 38 cities.\n"
     ]
    },
    {
     "data": {
      "text/html": [
       "<div>\n",
       "<style scoped>\n",
       "    .dataframe tbody tr th:only-of-type {\n",
       "        vertical-align: middle;\n",
       "    }\n",
       "\n",
       "    .dataframe tbody tr th {\n",
       "        vertical-align: top;\n",
       "    }\n",
       "\n",
       "    .dataframe thead th {\n",
       "        text-align: right;\n",
       "    }\n",
       "</style>\n",
       "<table border=\"1\" class=\"dataframe\">\n",
       "  <thead>\n",
       "    <tr style=\"text-align: right;\">\n",
       "      <th></th>\n",
       "      <th>Num</th>\n",
       "      <th>X</th>\n",
       "      <th>Y</th>\n",
       "    </tr>\n",
       "  </thead>\n",
       "  <tbody>\n",
       "    <tr>\n",
       "      <th>0</th>\n",
       "      <td>1</td>\n",
       "      <td>11003.6111</td>\n",
       "      <td>42102.5000</td>\n",
       "    </tr>\n",
       "    <tr>\n",
       "      <th>1</th>\n",
       "      <td>2</td>\n",
       "      <td>11108.6111</td>\n",
       "      <td>42373.8889</td>\n",
       "    </tr>\n",
       "    <tr>\n",
       "      <th>2</th>\n",
       "      <td>3</td>\n",
       "      <td>11133.3333</td>\n",
       "      <td>42885.8333</td>\n",
       "    </tr>\n",
       "    <tr>\n",
       "      <th>3</th>\n",
       "      <td>4</td>\n",
       "      <td>11155.8333</td>\n",
       "      <td>42712.5000</td>\n",
       "    </tr>\n",
       "    <tr>\n",
       "      <th>4</th>\n",
       "      <td>5</td>\n",
       "      <td>11183.3333</td>\n",
       "      <td>42933.3333</td>\n",
       "    </tr>\n",
       "  </tbody>\n",
       "</table>\n",
       "</div>"
      ],
      "text/plain": [
       "   Num           X           Y\n",
       "0    1  11003.6111  42102.5000\n",
       "1    2  11108.6111  42373.8889\n",
       "2    3  11133.3333  42885.8333\n",
       "3    4  11155.8333  42712.5000\n",
       "4    5  11183.3333  42933.3333"
      ]
     },
     "execution_count": 2,
     "metadata": {},
     "output_type": "execute_result"
    }
   ],
   "source": [
    "# Djibouti\n",
    "djib = pd.read_csv(\"djibouti_38\", sep=\" \")\n",
    "print(\"There are {} cities.\".format(len(djib)))\n",
    "djib.head()"
   ]
  },
  {
   "cell_type": "code",
   "execution_count": 3,
   "metadata": {},
   "outputs": [],
   "source": [
    "# Coordinates of cities\n",
    "djibcoord = djib.drop(columns='Num').to_numpy()"
   ]
  },
  {
   "cell_type": "code",
   "execution_count": 9,
   "metadata": {},
   "outputs": [],
   "source": [
    "def TSP_problem(country=None, popsize=None, generations=None, mut_proba=None, optimaldist=None):\n",
    "    \"\"\" Solves TSP problem for a country provided as an array of n cities each having coordinates X,Y\"\"\"\n",
    "    citycount = len(country)\n",
    "\n",
    "    #TSP is encoded using the city sequence (CITIES encoding) - [0, 1, 2, 3,...., citycount-1]\n",
    "    #In this encoding the sequence of the cities visited is directly put in the chromosome, \n",
    "    #creating a problem with one constraint: the sequence must be a permutation of the city indices.\n",
    "\n",
    "    def tourdistance(x):\n",
    "        \"\"\" Evaluate the length (Euclidean distance) of path encoded as x\n",
    "            x is a permutation of the city sequence [0, 1, 2, ..., citycount-1]\"\"\"\n",
    "        tourdist = 0\n",
    "        for i in range(1, len(x)):\n",
    "            tourdist += np.sqrt((country[int(x[i])][0] - country[int(x[i-1])][0])**2 \n",
    "                                + (country[int(x[i])][1] - country[int(x[i-1])][1])**2\n",
    "                               )\n",
    "        return tourdist\n",
    "    \n",
    "    # City index list [0, 1, 2, 3,...,citycount-1] or default city sequence\n",
    "    cityindexlist = [i for i in range(0,citycount)]\n",
    "    \n",
    "    # Define fitness, get_bounds and get_nix methods of tsp problem\n",
    "    class tsp:\n",
    "        def fitness(self, x): \n",
    "            # If there are duplicate genes in the chromosome, set its fitness to infintity. \n",
    "            # Such chromosomes will not be fit for selection.\n",
    "            if not(set(cityindexlist) == set(x)):\n",
    "                res = 100000 #float(\"inf\")\n",
    "            # If no duplicates, the chromosome is valid\n",
    "            else:\n",
    "                res = tourdistance(x)\n",
    "            return [res]\n",
    "\n",
    "        def get_bounds(self):\n",
    "            \"\"\" Each chromosome has size : citycount and each gene is an integer between 0 and citycount-1\"\"\"\n",
    "            return ([0]*citycount, [citycount-1]*citycount)\n",
    "\n",
    "        def get_nix(self):\n",
    "            \"\"\"Specify that the problem has integer dimensions (genes are integers)\"\"\"\n",
    "            return citycount\n",
    "\n",
    "    since = time.time()\n",
    "\n",
    "    # Instanciate simple genetic algorithm class of pygmo library\n",
    "    simple_gen_algo = sga(gen = generations, cr = .90, eta_c = 1., m = mut_proba,\n",
    "                          param_m = 1., param_s = 5, crossover = \"single\",\n",
    "                          mutation = \"uniform\", selection = \"truncated\", seed=100)\n",
    "    \n",
    "    # Intanciate optimization algorithm class\n",
    "    algo = algorithm(simple_gen_algo)\n",
    "\n",
    "    # Set algorithm verbosity - 1 for logging outputs at each generation\n",
    "    algo.set_verbosity(1)\n",
    "\n",
    "    # Construct an instance of pygmo.problem class by overriding specific methods with those implemented in\n",
    "    # input user-defined problem class\n",
    "    prob = problem(tsp())\n",
    "    \n",
    "    pop_size = popsize\n",
    "    # Generate a population of chromosomes/individuals\n",
    "    pop = population(prob)\n",
    "    for count in range(pop_size):\n",
    "        # An individual is a list containing a permutation of the city sequence\n",
    "        individual = list(np.random.permutation(citycount))\n",
    "        # Add individual to population\n",
    "        pop.push_back(x = individual)\n",
    "\n",
    "    #Print population\n",
    "    #print(pop)\n",
    "\n",
    "    # Core of the optimization - selection + crossover + mutation + insertion over specified number of generations\n",
    "    pop_output = algo.evolve(pop)\n",
    "\n",
    "    till = time.time()\n",
    "\n",
    "    # Extract a reference to the internal user-defined algorithm\n",
    "    uda = algo.extract(sga)\n",
    "\n",
    "    # Log extraction\n",
    "    log = uda.get_log()\n",
    "\n",
    "    Gen, Fevals, Best_fitness, Improvement = [], [], [], []\n",
    "\n",
    "    # Fetch cumulative number of function evaluatiions and best fitness at each generation\n",
    "    for x in log:\n",
    "        Gen.append(x[0])\n",
    "        Fevals.append(x[1])\n",
    "        Best_fitness.append(x[2])\n",
    "        #Improvement.append(x[3])\n",
    "    \n",
    "    solution = pop_output.champion_x\n",
    "    fitness_solution = pop_output.champion_f[0]\n",
    "    \n",
    "    ## Show results ##\n",
    "    plt.plot(Gen, Best_fitness, label=\"Convergence curve\")\n",
    "    plt.axhline(y=optimaldist, color=\"r\", label=\"Optimal path length = \"+str(optimaldist))\n",
    "    plt.legend()\n",
    "    plt.xlabel(\"Generation\")\n",
    "    plt.ylabel(\"Path length\")\n",
    "    plt.show()\n",
    "\n",
    "    print(\"Computational time : {:.2f} s\".format(till-since))\n",
    "    print(\"Minimum path length (result): {:.4f} \".format(fitness_solution))\n",
    "    print(\"Optimal path length: {:.4f} \".format(optimaldist))\n",
    "    print(\"Function evaluations : {}\".format(Fevals[-1]))\n",
    "    print(\"City sequence :\\n{}\".format(solution))\n",
    "\n",
    "    ## Plot city sequence ##\n",
    "    plt.figure(figsize=(15,5))\n",
    "    plt.axis('off')\n",
    "    \n",
    "    # Plot first point\n",
    "    plt.plot(country[int(solution[0])][0], country[int(solution[0])][1],'ro')\n",
    "    \n",
    "    for i in range(1, len(solution)):\n",
    "        curr_x = country[int(solution[i])][0]\n",
    "        prev_x = country[int(solution[i-1])][0]\n",
    "        curr_y = country[int(solution[i])][1]\n",
    "        prev_y = country[int(solution[i-1])][1]\n",
    "        \n",
    "        # Plot points 2 to last\n",
    "        plt.plot(curr_x, curr_y,'ro')\n",
    "        \n",
    "        # Link subsequent points, current and previous\n",
    "        plt.plot([prev_x, curr_x],[prev_y, curr_y],'k-')\n",
    "    \n",
    "    # Link first and last points\n",
    "    plt.plot([country[int(solution[0])][0], country[int(solution[-1])][0]],\n",
    "             [country[int(solution[0])][1], country[int(solution[-1])][1]],'k-')\n",
    "    plt.show()"
   ]
  },
  {
   "cell_type": "code",
   "execution_count": 10,
   "metadata": {},
   "outputs": [
    {
     "data": {
      "image/png": "[encoded data removed]",
      "text/plain": [
       "<Figure size 432x288 with 1 Axes>"
      ]
     },
     "metadata": {
      "needs_background": "light"
     },
     "output_type": "display_data"
    },
    {
     "name": "stdout",
     "output_type": "stream",
     "text": [
      "Computational time : 1537.82 s\n",
      "Minimum path length (result): 10018.7291 \n",
      "Optimal path length: 6656.0000 \n",
      "Function evaluations : 19620000\n",
      "City sequence :\n",
      "[32. 33. 35. 30. 14. 12. 17. 18. 26. 27. 21. 19. 22. 24. 25. 29. 31. 23.\n",
      "  5.  2.  4.  6.  7. 37. 36. 34. 28. 20. 13.  9.  0.  1.  3.  8. 15. 16.\n",
      " 11. 10.]\n"
     ]
    },
    {
     "data": {
      "image/png": "[encoded data removed]",
      "text/plain": [
       "<Figure size 1080x360 with 1 Axes>"
      ]
     },
     "metadata": {
      "needs_background": "light"
     },
     "output_type": "display_data"
    }
   ],
   "source": [
    "TSP_problem(country=djibcoord, popsize=10000, generations=2000, mut_proba=0.05, optimaldist=6656)"
   ]
  },
  {
   "cell_type": "markdown",
   "metadata": {},
   "source": [
    "The Genetic Algorithm implemented here achieves a minimum path length of 10018 which is close to the optimal path length of 6656."
   ]
  }
 ],
 "metadata": {
  "celltoolbar": "Raw Cell Format",
  "kernelspec": {
   "display_name": "Python 3",
   "language": "python",
   "name": "python3"
  },
  "language_info": {
   "codemirror_mode": {
    "name": "ipython",
    "version": 3
   },
   "file_extension": ".py",
   "mimetype": "text/x-python",
   "name": "python",
   "nbconvert_exporter": "python",
   "pygments_lexer": "ipython3",
   "version": "3.8.2"
  }
 },
 "nbformat": 4,
 "nbformat_minor": 4
}
