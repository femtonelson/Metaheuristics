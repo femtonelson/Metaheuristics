{
 "cells": [
  {
   "cell_type": "markdown",
   "metadata": {},
   "source": [
    "**Shifted Schwefel Function**"
   ]
  },
  {
   "cell_type": "markdown",
   "metadata": {},
   "source": [
    "Environment : Python 3.8.2 & Jupyter Notebook<br>"
   ]
  },
  {
   "cell_type": "markdown",
   "metadata": {},
   "source": [
    "The objective is to solve unconstrained problem : F2 as described in the “CEC2008_TechnicalReport.pdf” for both dimensions D = 50 and D = 500. <br>\n",
    "F2: Shifted Schwefel<br>\n",
    "\n",
    "The coordinates of the shifted global minimum of this function in dim = 1000 are provided in a numpy array in a data file \"data.py\". These are the target coordinates to be achieved.<br>\n",
    "F2: schwefeldat -> shape = (1000,) <br>\n",
    "\n",
    "The fitness or value of this function at its minimum is also available in numpy array \"f_bias\" in \"data.py\". This is the the target fitness value to achieve.<br>\n",
    "f_bias[1] = F2_min = -450\n",
    "<img src=\"Functions.png\">"
   ]
  },
  {
   "cell_type": "markdown",
   "metadata": {},
   "source": [
    "Import Libraries"
   ]
  },
  {
   "cell_type": "code",
   "execution_count": 7,
   "metadata": {},
   "outputs": [],
   "source": [
    "import random\n",
    "import numpy as np\n",
    "import matplotlib.pyplot as plt\n",
    "import pandas as pd\n",
    "import time\n",
    "\n",
    "from psopy import minimize as minimize_pso"
   ]
  },
  {
   "cell_type": "markdown",
   "metadata": {},
   "source": [
    "**Import Data**"
   ]
  },
  {
   "cell_type": "code",
   "execution_count": 2,
   "metadata": {
    "scrolled": true
   },
   "outputs": [
    {
     "name": "stdout",
     "output_type": "stream",
     "text": [
      "(1000,)\n",
      "-450.0\n"
     ]
    }
   ],
   "source": [
    "# Import data in data.py file and print shape of input arrays\n",
    "from data import *\n",
    "print(spheredat.shape)\n",
    "print(f_bias[0])"
   ]
  },
  {
   "cell_type": "markdown",
   "metadata": {},
   "source": [
    "- Algorithm : Particle Swarm Optimization - The shifted schwefel function is not differentiable throughout the search space. As such, a gradient-based method produces unstable results and does not guarantee convergence. The heuristic-based PSO algorithm is suitable for this unconstrained, non-linear, unimodal problem in the continuous domain.\n",
    "- Library : psopy\n",
    "- Parameters of the algorithm : Number of particles, stable_iter(Number of iterations to wait before Swarm is declared stable) \n",
    "- Stopping criterion : stable_iter = 100\n",
    "- Number of function evaluations : see below\n",
    "- Computational time : see below\n",
    "- Convergence curve : see below\n",
    "- Final results (solution and fitness) : see below"
   ]
  },
  {
   "cell_type": "code",
   "execution_count": 8,
   "metadata": {},
   "outputs": [],
   "source": [
    "# Define objective function to minimize\n",
    "def Shifted_Schwefel(x):\n",
    "    return f_bias[1] + np.max(np.abs(x[:dim] - schwefeldat[:dim]))\n",
    "\n",
    "\n",
    "def Minimize_PSO(func, targetmin=None, nb_particles=None, stable_iter=None, self_confid=None, swarm_confid=None, \n",
    "                 bounds_min = None, bounds_max = None):\n",
    "    \"\"\" Minimize func using Particle Swarm Optimization with a given particle self confidence and swarm condifence\n",
    "        Stopping condition : Maximum change in best fitness smaller than default tol=1e-6 for stable_iter iterations\"\"\"\n",
    "    \n",
    "    print(\"Number of dimensions : {}\".format(dim))\n",
    "    \n",
    "    since = time.time()\n",
    "    \n",
    "    # Generate nb_particles particles of dimension dim, with coordinates between min and max\n",
    "    x0 = np.random.uniform(bounds_min, bounds_max, (nb_particles, dim))\n",
    "    \n",
    "    # Run Particle Swarm Optimization\n",
    "    res = minimize_pso(func, x0, options={'stable_iter': stable_iter, 'l_rate':self_confid, 'g_rate':swarm_confid, \n",
    "                       'verbose' : False, 'savefile': \"output.csv\"})\n",
    "    \n",
    "    # Show results\n",
    "    print(\"Computational time : {:.2f} s\".format(time.time()-since))\n",
    "    print(\"Fitness at minimum (result): {:.4f} \".format(res.fun))\n",
    "    print(\"Fitness at minimum (real): {:.4f} \".format(targetmin))\n",
    "    print(\"Function evaluations : {}\".format(res.nit*nb_particles))\n",
    "\n",
    "    converg = pd.read_csv(\"output.csv\", sep=\",\")\n",
    "    plt.plot(converg.Iter+1, converg.Func, label=\"Convergence curve\")\n",
    "    plt.axhline(y=targetmin, color=\"r\", label=\"Actual Minimum = \"+str(targetmin))\n",
    "    plt.legend()\n",
    "    plt.xlabel(\"Iteration\")\n",
    "    plt.ylabel(\"Fitness\")\n",
    "    plt.show()\n",
    "    \n",
    "    print(\"x_minimum :\\n{}\".format(res.x))"
   ]
  },
  {
   "cell_type": "markdown",
   "metadata": {},
   "source": [
    "D = 50"
   ]
  },
  {
   "cell_type": "code",
   "execution_count": 10,
   "metadata": {},
   "outputs": [
    {
     "name": "stdout",
     "output_type": "stream",
     "text": [
      "Number of dimensions : 50\n",
      "Computational time : 7.40 s\n",
      "Fitness at minimum (result): -441.8128 \n",
      "Fitness at minimum (real): -450.0000 \n",
      "Function evaluations : 249750\n"
     ]
    },
    {
     "data": {
      "image/png": "[encoded data removed]",
      "text/plain": [
       "<Figure size 432x288 with 1 Axes>"
      ]
     },
     "metadata": {
      "needs_background": "light"
     },
     "output_type": "display_data"
    },
    {
     "name": "stdout",
     "output_type": "stream",
     "text": [
      "x_minimum :\n",
      "[-19.87414206 -13.09618858 -48.78608444 -89.45793024 -11.61552426\n",
      " -46.78827229  -9.35377624 -76.85272102 -75.45464074 -52.94315068\n",
      " -56.94729164 -49.11554115   3.41161909 -21.96705635 -87.73736031\n",
      " -49.31297693 -57.10031876 -37.08419746 -72.09046984 -70.57978355\n",
      " -41.47921129 -70.75539197 -64.2279208  -51.50731675  -0.44941133\n",
      " -38.95369758 -16.31064998 -64.58303471 -49.90298768 -41.08437585\n",
      " -75.56854564 -64.01749075 -45.86488324 -69.69526337 -96.86804094\n",
      " -78.18218771 -88.66560114 -45.93297462 -54.26834477 -56.78776964\n",
      "   0.28570537 -64.6119642  -29.44264464 -47.52108393  -9.62298489\n",
      " -74.69731061  -6.65283984 -59.91274354 -35.18143546 -76.81853892]\n"
     ]
    }
   ],
   "source": [
    "dim = 50\n",
    "\n",
    "Minimize_PSO(Shifted_Schwefel, targetmin=f_bias[1], nb_particles=250, stable_iter=100, self_confid=15, swarm_confid=0.8,\n",
    "            bounds_min = -100, bounds_max = 100)"
   ]
  },
  {
   "cell_type": "markdown",
   "metadata": {},
   "source": [
    "D = 500"
   ]
  },
  {
   "cell_type": "code",
   "execution_count": 6,
   "metadata": {},
   "outputs": [
    {
     "name": "stdout",
     "output_type": "stream",
     "text": [
      "Number of dimensions : 500\n",
      "Computational time : 25.92 s\n",
      "Fitness at minimum (result): -357.8799 \n",
      "Fitness at minimum (real): -450.0000 \n",
      "Function evaluations : 506400\n"
     ]
    },
    {
     "data": {
      "image/png": "[encoded data removed]",
      "text/plain": [
       "<Figure size 432x288 with 1 Axes>"
      ]
     },
     "metadata": {
      "needs_background": "light"
     },
     "output_type": "display_data"
    },
    {
     "name": "stdout",
     "output_type": "stream",
     "text": [
      "x_minimum :\n",
      "[ 2.74424652e+01 -1.28471418e+01  9.94096665e+00 -7.91861709e+00\n",
      "  1.48102177e+01  2.39177647e+01 -3.92189877e+00  6.57910604e+00\n",
      " -2.62882947e+00  4.67135538e-01 -4.06855958e+00 -1.07632614e+01\n",
      "  1.58983285e+01 -3.93350572e+00  3.95168490e+00  8.16847825e+00\n",
      " -2.38587325e+00 -3.65493717e+00  1.16345001e+01  1.50567669e+01\n",
      "  1.95087098e+01 -5.40021703e-01 -8.62842468e+00 -6.46345427e+00\n",
      "  2.33048795e+00  9.89018628e+00  1.32719463e+01 -1.52026412e+01\n",
      " -2.24971842e+01 -9.06011121e+00  1.29593542e+01  1.20674837e+01\n",
      "  1.09411307e+01 -1.94545866e+01 -6.13598203e+00  8.73284382e+00\n",
      " -1.51509088e+01 -2.26504155e+01 -1.96886036e+01  5.14383912e+00\n",
      " -1.95043072e+01 -1.76389071e+01  1.67471726e+01 -2.61859497e+01\n",
      "  1.01229763e+01 -1.14316501e-01 -1.06945268e+01  4.31436281e+00\n",
      " -1.92135081e+00 -5.68765692e+00  3.95752701e+01 -1.94954727e+01\n",
      "  2.02178325e+01  1.12155291e+01  1.61854922e-01 -2.03622942e+01\n",
      " -1.06060398e+01 -4.80344148e+00 -5.01592592e+00 -5.06439872e+00\n",
      "  2.20553084e-01 -5.66522354e-01 -2.21418925e+01 -8.66811299e+00\n",
      "  5.33078167e+00  1.33913777e+00 -6.96270292e+00 -8.85905861e+00\n",
      " -9.34696157e+00 -1.11853521e+01  1.47793131e+01  1.89827294e+00\n",
      " -1.43715385e+01 -1.09091916e+01  9.05120850e+00 -1.30917814e+01\n",
      " -3.64916672e+00 -1.46503411e+01 -1.83839173e+01 -3.29907531e+01\n",
      "  6.50840006e+00 -3.55680046e+01 -1.70107216e+00  1.57448367e+00\n",
      "  1.19140584e+01 -5.18793051e-01  2.06192379e+01 -3.00261357e+00\n",
      " -2.62228037e+01  2.60732517e+01 -1.40976548e+01  2.44287838e+01\n",
      "  1.41661023e+01 -1.20590774e+01  8.71322859e+00 -6.39973534e+00\n",
      " -3.90994533e+00  9.24403355e+00 -9.44990805e+00 -2.30193974e+01\n",
      " -6.88288646e+00 -1.06445902e+01 -3.76757219e+00 -3.52342200e+00\n",
      "  1.12159187e+01  1.59506706e+01 -8.83013154e+00  9.84131771e+00\n",
      " -1.40397508e+01  2.70037283e-01 -5.59775848e+00 -1.90464883e+01\n",
      "  1.91933191e+00 -4.76225105e-01 -1.82118327e+01 -1.45230878e+01\n",
      " -1.53434318e+01 -2.87659735e+01  7.44034460e+00 -4.28068602e+00\n",
      " -1.70844934e+01  1.58725974e+01 -3.39269253e+00 -7.53921118e+00\n",
      " -1.76639454e+00 -8.17295774e+00 -1.00243338e+01 -3.41748791e+00\n",
      "  2.80161079e+00 -2.33319537e+01 -2.26661329e+01  5.69622802e-01\n",
      " -9.83751943e+00 -3.54436246e+01  1.50981115e+01  1.30187707e+01\n",
      "  2.07420503e+01 -3.74953641e+00 -6.91681715e+00  7.96881688e+00\n",
      "  1.95467156e+00 -1.44866353e+00 -4.37950494e+00 -1.68729196e+01\n",
      " -7.56834441e+00  1.34875012e+01  9.97301309e+00 -1.69350375e+01\n",
      " -6.35206735e+00  1.76496390e+01 -1.52000888e+01 -6.90364810e+00\n",
      "  5.35779688e+00 -5.51502791e+00  1.28105508e+01 -1.45682305e+00\n",
      " -1.24787036e+00 -2.15543520e+00  2.77174596e+01 -7.12766186e+00\n",
      " -4.33231869e-01 -8.89277973e+00  3.92971036e+00  6.08515644e+00\n",
      " -4.46428910e-01  1.14601849e+00  2.13771014e+01 -2.61724445e+01\n",
      " -2.75749017e+01 -3.74170471e-02  1.47745265e+01 -3.03084867e-01\n",
      " -4.59140184e+00  7.11167825e+00 -1.97407620e+01 -4.87222552e+01\n",
      " -5.41395753e+00 -1.12837940e+01  1.95892654e+00  7.42783619e+00\n",
      "  2.95849898e+00  4.17392964e+00 -5.48974999e+00  1.54123088e+01\n",
      "  8.07859564e+00  4.32369192e+00 -7.63964690e+00 -3.61390993e+01\n",
      "  6.88611750e+00 -5.91170792e+00  5.91191188e+00 -7.85820549e+00\n",
      " -1.11166635e+00  1.91193842e+00  2.80232622e+00 -6.33916905e+00\n",
      "  1.32107964e+01  1.51883157e+01 -7.84649439e+00 -2.04260815e+01\n",
      " -1.86415096e+01 -2.78862400e+00  1.70578037e+01 -2.47063787e+00\n",
      "  1.00375445e+01 -2.21586665e+01  2.23759121e+01 -8.41977097e+00\n",
      "  9.10839582e+00 -5.99855265e+00 -2.14440210e+01  8.81099114e+00\n",
      "  1.51118291e+01  1.94496878e+01  1.73317604e+01  9.91518481e+00\n",
      " -8.10531870e+00 -1.85531698e+01  1.35978151e+01  2.97354829e+00\n",
      " -1.33199412e+01 -4.80400466e+00  3.14998628e+00  2.24805286e+00\n",
      " -5.55073379e+00 -1.80439355e+01  1.14118783e+01 -3.15920546e+01\n",
      " -1.90665811e+01  9.02882941e+00  5.93544587e+00 -2.69785992e+01\n",
      " -1.04064992e+01  3.81887614e+00  1.37502505e+01  8.97454908e-01\n",
      "  5.17559486e+00  2.82722669e+01 -8.89205993e+00 -1.01287096e+01\n",
      " -1.03751054e+01 -1.65253081e+01 -6.47429874e-01  7.34176897e+00\n",
      "  1.94639492e+01 -3.67219292e+01  1.83502280e+01 -3.48540605e+00\n",
      " -8.34415192e+00 -2.37800397e+01 -1.24395089e+01  4.75062151e+00\n",
      "  7.43633138e+00  7.45491566e+00 -4.03573558e+01 -1.05019871e+01\n",
      "  2.47391742e+01 -1.21558998e+01 -4.49040076e+00  2.93005990e+00\n",
      "  1.01024249e+01 -6.51999246e+00  3.91203882e+00 -2.15642808e+00\n",
      " -1.52114961e+01 -1.14350931e+01 -9.82451211e+00 -3.80623232e+00\n",
      "  1.27437757e+01 -1.13597967e+01  2.74631780e+00  2.07546482e+01\n",
      " -5.05143887e+00 -2.93108745e+01 -3.46200289e+00 -1.04400628e+01\n",
      " -6.17834449e+00  1.16738550e+01  1.64194814e+01 -5.81079190e+00\n",
      "  1.76571706e+01 -5.45951529e-01 -7.03723783e+00 -2.09627392e+01\n",
      "  1.60272759e+01  1.06772881e+00  1.06108460e+01 -4.27745147e+01\n",
      "  8.48788615e+00 -4.06625064e+00  3.17795974e+00 -1.04395916e+00\n",
      " -2.72511824e+00 -1.68455744e+00  1.25714834e+01  5.55554686e+00\n",
      " -2.22405717e+01 -1.56661511e+01 -1.83922977e+00 -1.80808660e+01\n",
      " -1.97125408e+01 -1.17866667e+00  5.47561176e+00 -1.09479269e+00\n",
      " -1.70632471e+01  2.18427716e+01  3.41610467e-01 -2.30317761e+01\n",
      "  4.00452936e+00 -1.48467127e+01  1.71395964e+01 -3.61053445e+01\n",
      " -2.12671278e+01  1.05719934e+00  6.26156913e+00  5.47764849e+00\n",
      " -8.09248532e+00  2.34919559e+01 -8.63111179e-01 -2.10200718e+01\n",
      "  3.75750049e+01 -6.66905500e+00  1.09666151e+01 -2.33799732e+01\n",
      "  3.20240154e+00 -3.70319348e+00 -1.84034104e+01 -3.64507530e+00\n",
      "  9.17241373e+00  1.05617691e+01  9.28572055e+00  1.75390094e+00\n",
      "  6.24250002e+00  1.56614220e+01 -2.02292035e+01 -7.75780515e+00\n",
      " -6.86163260e+00  1.70721752e+01 -8.72510198e+00 -9.12549027e+00\n",
      "  1.76410103e+01 -4.70551914e+00  4.86054671e+00 -3.03735801e+01\n",
      "  1.05910176e+01  7.36798714e+00 -1.97700997e+00 -4.53759418e+00\n",
      " -6.17224485e+00  1.51600719e+01 -1.27616477e+01 -4.64591237e-01\n",
      " -1.02460525e+01 -2.02932345e+00 -4.94236713e+00 -5.71226774e+00\n",
      "  7.94208236e+00  9.27307942e+00 -2.84666557e+01 -7.62777766e+00\n",
      " -1.11978146e+01  2.46869448e+01  1.25263429e+01  1.06890106e+01\n",
      " -8.29648356e+00 -1.87457933e+01  8.23267746e+00  1.94999656e+01\n",
      " -7.14146774e+00 -7.14821910e+00 -2.29111237e+00 -1.03071676e+01\n",
      " -6.78237307e+00 -1.07815997e+01 -1.68840712e+01  4.78850533e+00\n",
      "  3.04335229e+01  3.03744884e+01 -1.04643636e+01 -7.90408338e+00\n",
      "  2.50543641e+00 -4.70774324e+00  2.57668859e+01  2.91873178e+01\n",
      " -1.22860403e+01  1.20956148e+01  2.18999979e+01 -1.77131343e+01\n",
      " -4.86977659e+00  9.56353897e+00 -8.71114825e+00 -2.22585668e+01\n",
      " -4.74707344e-01  1.40299637e+01  5.83026661e+00  1.04612515e+01\n",
      " -2.36199581e+01 -2.05008792e+01 -1.35133954e+01 -3.68073467e+01\n",
      " -1.17059206e+01 -7.66301966e+00 -2.07407765e+01 -1.05679385e+01\n",
      " -1.18165984e-01  9.55567982e+00  1.44643269e+01  7.71546029e+00\n",
      " -5.11136265e+00 -2.91503144e+01  7.31416619e-01  2.80425951e+00\n",
      " -4.14724941e+00 -4.63382313e+00  9.30095782e+00 -1.34723847e+01\n",
      " -1.31643745e+01  4.81209570e+00 -1.19879773e+01 -8.59749918e+00\n",
      "  4.07351495e+00 -2.08718892e+00  9.71589544e-01 -2.01784228e+01\n",
      "  3.28669825e+01 -9.29303605e+00  4.45020568e+01 -1.08900411e+01\n",
      "  1.22381047e+01 -9.20464083e+00 -6.60563162e+00 -7.66428017e+00\n",
      " -1.92257712e+01 -1.62230282e+01  1.99038078e+01  6.00193124e+00\n",
      " -8.79841711e+00  3.54644621e+01  8.40433693e+00 -1.78079896e+01\n",
      " -4.05616853e+00 -2.31152857e+00  2.46315303e+01 -7.84069529e+00\n",
      " -2.88144245e+01  7.78099414e+00 -7.66388635e+00 -2.12940324e+01\n",
      " -2.91160307e+01 -1.82214169e+01 -1.89278817e+00 -1.31962647e+01\n",
      "  1.97485667e+01 -1.11716202e+01 -7.19518834e+00  1.44135063e+01\n",
      " -2.25889141e+00  1.06648867e+01  1.62756395e+01  1.31214208e+01\n",
      "  9.94810833e+00  1.08301688e+01 -2.36603163e+00  5.48312752e+00\n",
      "  1.69537562e+00 -2.23230612e+01 -6.57028046e+00  1.71569233e+00\n",
      "  1.10535560e+01 -7.62339834e+00 -9.83773757e+00 -2.80716801e+01\n",
      " -3.14447089e+00 -1.41884942e+01 -1.69105946e+01  4.58907260e+01\n",
      " -8.19290997e+00 -1.01112085e+01  7.19713455e+00 -8.51371113e+00\n",
      "  2.08016354e+00 -1.52142898e+00  1.96121428e+00  2.45738683e+01\n",
      " -1.03203232e+01 -2.07351950e+01  2.01812962e+01 -1.32993136e+01\n",
      "  7.11716754e+00  8.78532451e-01  4.85855783e+00  2.64238045e+00\n",
      "  9.33438978e+00 -4.09125858e+00 -2.17870950e+01 -4.20004879e+00\n",
      " -8.11933228e+00  1.43350864e+01 -2.10844908e+01  4.38382420e+00]\n"
     ]
    }
   ],
   "source": [
    "dim = 500\n",
    "\n",
    "Minimize_PSO(Shifted_Schwefel, targetmin=f_bias[1], nb_particles=1200, stable_iter=100, self_confid=2, swarm_confid=15,\n",
    "            bounds_min = -100, bounds_max = 100)"
   ]
  },
  {
   "cell_type": "markdown",
   "metadata": {},
   "source": [
    "PSO applied to the Shifted Schwefel function performs much better for D = 50 than for D = 500."
   ]
  }
 ],
 "metadata": {
  "celltoolbar": "Raw Cell Format",
  "kernelspec": {
   "display_name": "Python 3",
   "language": "python",
   "name": "python3"
  },
  "language_info": {
   "codemirror_mode": {
    "name": "ipython",
    "version": 3
   },
   "file_extension": ".py",
   "mimetype": "text/x-python",
   "name": "python",
   "nbconvert_exporter": "python",
   "pygments_lexer": "ipython3",
   "version": "3.8.2"
  }
 },
 "nbformat": 4,
 "nbformat_minor": 4
}
